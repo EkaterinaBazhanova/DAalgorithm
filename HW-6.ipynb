{
 "cells": [
  {
   "cell_type": "code",
   "execution_count": 160,
   "metadata": {},
   "outputs": [],
   "source": [
    "from sklearn.tree import DecisionTreeRegressor\n",
    "\n",
    "from sklearn import model_selection\n",
    "import numpy as np\n",
    "import matplotlib.pyplot as plt\n",
    "import random"
   ]
  },
  {
   "cell_type": "markdown",
   "metadata": {},
   "source": [
    "# Домашнее задание №6"
   ]
  },
  {
   "cell_type": "markdown",
   "metadata": {},
   "source": [
    "[Задача 1](#Pr1) \\\n",
    "[Задача 2](#Pr2) \\\n",
    "[Задача 3](#Pr3)"
   ]
  },
  {
   "cell_type": "markdown",
   "metadata": {},
   "source": [
    "**Задание 1.** Для реализованной в методичке модели градиентного бустинга построить графики зависимости ошибки от количества деревьев в ансамбле и от максимальной глубины деревьев. Сделать выводы о зависимости ошибки от этих параметров. <a class=\"anchor\" id=\"Pr1\"></a>"
   ]
  },
  {
   "cell_type": "markdown",
   "metadata": {},
   "source": [
    "Загружаем датасет"
   ]
  },
  {
   "cell_type": "code",
   "execution_count": 161,
   "metadata": {},
   "outputs": [],
   "source": [
    "from sklearn.datasets import load_diabetes\n",
    "X, y = load_diabetes(return_X_y=True)"
   ]
  },
  {
   "cell_type": "markdown",
   "metadata": {},
   "source": [
    "Делим выборку на обучающую и тестовую"
   ]
  },
  {
   "cell_type": "code",
   "execution_count": 162,
   "metadata": {},
   "outputs": [],
   "source": [
    "X_train, X_test, y_train, y_test = model_selection.train_test_split(X, y, test_size=0.25)"
   ]
  },
  {
   "cell_type": "markdown",
   "metadata": {},
   "source": [
    "Функция предсказания на градиентном бустинге. Предсказание ансамбля деревьев:\n",
    "\n",
    "$$a_{n}(x) = a_{n-1}(x) + \\eta \\gamma_{n} b_{n}(x),$$\n",
    "\n",
    "если $b_0(x) = 0$, то $a_{n}(x) = \\sum_{i=1}^{n-1}\\eta \\gamma_{n} b_{n}(x).$"
   ]
  },
  {
   "cell_type": "code",
   "execution_count": 163,
   "metadata": {},
   "outputs": [],
   "source": [
    "def gb_predict(X, trees_list, coef_list, eta):\n",
    "    # Реализуемый алгоритм градиентного бустинга будет инициализироваться нулевыми значениями,\n",
    "    # поэтому все деревья из списка trees_list уже являются дополнительными и при предсказании прибавляются с шагом eta\n",
    "    return np.array([sum([eta* coef * alg.predict([x])[0] for alg, coef in zip(trees_list, coef_list)]) for x in X])"
   ]
  },
  {
   "cell_type": "markdown",
   "metadata": {},
   "source": [
    "В качестве функционала ошибки используем среднеквадратичную ошибку."
   ]
  },
  {
   "cell_type": "code",
   "execution_count": 164,
   "metadata": {},
   "outputs": [],
   "source": [
    "def mean_squared_error(y_real, prediction):\n",
    "    return (sum((y_real - prediction)**2)) / len(y_real)"
   ]
  },
  {
   "cell_type": "markdown",
   "metadata": {},
   "source": [
    "Используем в качестве функции потерь\n",
    "$$L(y, z) = (y-z)^{2},$$\n",
    "тогда $L'(y, z)_{z} = 2(z-y)$. "
   ]
  },
  {
   "cell_type": "code",
   "execution_count": 165,
   "metadata": {},
   "outputs": [],
   "source": [
    "def bias(y, z):\n",
    "    return (y - z)"
   ]
  },
  {
   "cell_type": "markdown",
   "metadata": {},
   "source": [
    "Алгоритм построения модели градиентного бустинга:\n",
    "\n",
    "1. Для инициализации выбираем произвольный простой алгоритм, например $b_{0}(x) = 0$. \n",
    "\n",
    "2. Для каждой итерации повторяем:\n",
    "\n",
    "-- находим предсказания композиции на текущем шаге $z = a_{n-1}(X)$,\n",
    "\n",
    "-- вычисляем антиградиент функции ошибок $s = -\\nabla(L(y,z))= 2(y-z)$,\n",
    "\n",
    "-- обучаем новый алгоритм алгоритм $b_{n}$ на X, s,\n",
    "\n",
    "-- находится оптимальный коэффициент $\\gamma$\n",
    "$\\gamma_{n} = \\underset{\\gamma}{\\text{argmin}}\\sum_{i=1}^{l}L(y_{i},a_{n-1}(x_{i}) + \\gamma b_{n}(x_{i}))$\n",
    "\n",
    "и добавляется в имеющийся ансамбль с умножением на шаг $\\eta$, называемый скоростью обучения \n",
    "\n",
    "$$a_{n}(x) = a_{n-1}(x) + \\eta \\gamma_{n} b_{n}(x).$$\n",
    "\n",
    "4. При достижении критериев остановки компонуется итоговая модель\n",
    "$$a_{N}(x) = \\sum^{N}_{n=1}\\gamma_{n}b_{n}(x).$$"
   ]
  },
  {
   "cell_type": "code",
   "execution_count": 166,
   "metadata": {},
   "outputs": [],
   "source": [
    "def gb_fit(n_trees, max_depth, X_train, X_test, y_train, y_test, coefs, eta):\n",
    "    \n",
    "    # Деревья будем записывать в список\n",
    "    trees = []\n",
    "    \n",
    "    # Будем записывать ошибки на обучающей и тестовой выборке на каждой итерации в список\n",
    "    train_errors = []\n",
    "    test_errors = []\n",
    "    \n",
    "    for i in range(n_trees):\n",
    "        tree = DecisionTreeRegressor(max_depth=max_depth, random_state=42)\n",
    "\n",
    "        # инициализируем бустинг начальным алгоритмом, возвращающим ноль, \n",
    "        # поэтому первый алгоритм просто обучаем на выборке и добавляем в список\n",
    "        if len(trees) == 0:\n",
    "            # обучаем первое дерево на обучающей выборке\n",
    "            tree.fit(X_train, y_train)\n",
    "            \n",
    "            train_errors.append(mean_squared_error(y_train, gb_predict(X_train, trees, coefs, eta)))\n",
    "            test_errors.append(mean_squared_error(y_test, gb_predict(X_test, trees, coefs, eta)))\n",
    "        else:\n",
    "            # Получим ответы на текущей композиции\n",
    "            target = gb_predict(X_train, trees, coefs, eta)\n",
    "            \n",
    "            # алгоритмы начиная со второго обучаем на сдвиг\n",
    "            tree.fit(X_train, bias(y_train, target))\n",
    "            \n",
    "            train_errors.append(mean_squared_error(y_train, gb_predict(X_train, trees, coefs, eta)))\n",
    "            test_errors.append(mean_squared_error(y_test, gb_predict(X_test, trees, coefs, eta)))\n",
    "\n",
    "        trees.append(tree)\n",
    "        \n",
    "    return trees, train_errors, test_errors"
   ]
  },
  {
   "cell_type": "markdown",
   "metadata": {},
   "source": [
    "Проанализируем зависимость ошибки от количества деревьев в ансамбле и максимальной глубины деревьев."
   ]
  },
  {
   "cell_type": "code",
   "execution_count": 167,
   "metadata": {},
   "outputs": [],
   "source": [
    "def evaluate_alg(X_train, X_test, y_train, y_test, trees, coefs, eta):\n",
    "    train_prediction = gb_predict(X_train, trees, coefs, eta)\n",
    "\n",
    "    print(f'Ошибка алгоритма из {n_trees} деревьев глубиной {max_depth} \\\n",
    "    с шагом {eta} на тренировочной выборке: {mean_squared_error(y_train, train_prediction)}')\n",
    "\n",
    "    test_prediction = gb_predict(X_test, trees, coefs, eta)\n",
    "\n",
    "    print(f'Ошибка алгоритма из {n_trees} деревьев глубиной {max_depth} \\\n",
    "    с шагом {eta} на тестовой выборке: {mean_squared_error(y_test, test_prediction)} \\n')"
   ]
  },
  {
   "cell_type": "markdown",
   "metadata": {},
   "source": [
    "Исследуем параметр n_trees"
   ]
  },
  {
   "cell_type": "code",
   "execution_count": 168,
   "metadata": {},
   "outputs": [
    {
     "data": {
      "image/png": "[encoded data removed]",
      "text/plain": [
       "<Figure size 432x288 with 1 Axes>"
      ]
     },
     "metadata": {
      "needs_background": "light"
     },
     "output_type": "display_data"
    }
   ],
   "source": [
    "n_trees = 60\n",
    "\n",
    "# для простоты примем коэффициенты равными 1\n",
    "coefs = [1] * n_trees\n",
    "\n",
    "# Шаг\n",
    "eta = 0.1\n",
    "\n",
    "# Максимальная глубина деревьев\n",
    "max_depth = 3\n",
    "\n",
    "def prediction_trees(X_train, X_test, y_train, max_depth, y_test, coefs, eta):\n",
    "    x = np.arange(1,60,1)\n",
    "    y = [[],[]]\n",
    "    for i in x:\n",
    "        trees, train_errors, test_errors = gb_fit(i, max_depth, X_train, X_test, y_train, y_test, coefs, eta)\n",
    "        train_prediction = gb_predict(X_train, trees, coefs, eta)\n",
    "        train_err = mean_squared_error(y_train, train_prediction)\n",
    "        test_prediction = gb_predict(X_test, trees, coefs, eta)\n",
    "        test_err = mean_squared_error(y_test, test_prediction)\n",
    "        y[0].append(train_err)\n",
    "        y[1].append(test_err)\n",
    "    plt.title('Dependence of MSE on n_trees')\n",
    "    plt.xlabel('n_trees')\n",
    "    plt.ylabel('MSE')\n",
    "    plt.plot(x, y[0], label='train error')\n",
    "    plt.plot(x, y[1], label='test error')\n",
    "    plt.legend(loc='upper right')\n",
    "    plt.show()\n",
    "    \n",
    "prediction_trees(X_train, X_test, y_train, max_depth, y_test, coefs, eta)"
   ]
  },
  {
   "cell_type": "markdown",
   "metadata": {},
   "source": [
    "Таким образом, чем больше количество деревьев, тем меньше ошибка. Однако, при заданном max_depth = 2 модель переобучена.\n",
    "\n",
    "Рассчитаем ошибки с числом деревьев 35"
   ]
  },
  {
   "cell_type": "code",
   "execution_count": 184,
   "metadata": {},
   "outputs": [
    {
     "name": "stdout",
     "output_type": "stream",
     "text": [
      "Ошибка алгоритма из 35 деревьев глубиной 3     с шагом 0.1 на тренировочной выборке: 1810.609011174231\n",
      "Ошибка алгоритма из 35 деревьев глубиной 3     с шагом 0.1 на тестовой выборке: 2955.0478901424767 \n",
      "\n"
     ]
    }
   ],
   "source": [
    "# Число деревьев в ансамбле\n",
    "n_trees = 35\n",
    "\n",
    "# для простоты примем коэффициенты равными 1\n",
    "coefs = [1] * n_trees\n",
    "\n",
    "# Максимальная глубина деревьев\n",
    "max_depth = 3\n",
    "\n",
    "# Шаг\n",
    "eta = 0.1\n",
    "\n",
    "trees, train_errors, test_errors = gb_fit(n_trees, max_depth, X_train, X_test, y_train, y_test, coefs, eta)\n",
    "\n",
    "evaluate_alg(X_train, X_test, y_train, y_test, trees, coefs, eta)"
   ]
  },
  {
   "cell_type": "markdown",
   "metadata": {},
   "source": [
    "Понизим значение max_depth"
   ]
  },
  {
   "cell_type": "code",
   "execution_count": 185,
   "metadata": {},
   "outputs": [
    {
     "data": {
      "image/png": "[encoded data removed]",
      "text/plain": [
       "<Figure size 432x288 with 1 Axes>"
      ]
     },
     "metadata": {
      "needs_background": "light"
     },
     "output_type": "display_data"
    }
   ],
   "source": [
    "n_trees = 60\n",
    "\n",
    "# для простоты примем коэффициенты равными 1\n",
    "coefs = [1] * n_trees\n",
    "\n",
    "# Шаг\n",
    "eta = 0.1\n",
    "\n",
    "# Максимальная глубина деревьев\n",
    "max_depth = 2\n",
    "\n",
    "def prediction_trees(X_train, X_test, y_train, max_depth, y_test, coefs, eta):\n",
    "    x = np.arange(1,60,1)\n",
    "    y = [[],[]]\n",
    "    for i in x:\n",
    "        trees, train_errors, test_errors = gb_fit(i, max_depth, X_train, X_test, y_train, y_test, coefs, eta)\n",
    "        train_prediction = gb_predict(X_train, trees, coefs, eta)\n",
    "        train_err = mean_squared_error(y_train, train_prediction)\n",
    "        test_prediction = gb_predict(X_test, trees, coefs, eta)\n",
    "        test_err = mean_squared_error(y_test, test_prediction)\n",
    "        y[0].append(train_err)\n",
    "        y[1].append(test_err)\n",
    "    plt.title('Dependence of MSE on n_trees')\n",
    "    plt.xlabel('n_trees')\n",
    "    plt.ylabel('MSE')\n",
    "    plt.plot(x, y[0], label='train error')\n",
    "    plt.plot(x, y[1], label='test error')\n",
    "    plt.legend(loc='upper right')\n",
    "    plt.show()\n",
    "\n",
    "prediction_trees(X_train, X_test, y_train, max_depth, y_test, coefs, eta)"
   ]
  },
  {
   "cell_type": "markdown",
   "metadata": {},
   "source": [
    "Таким образом, чем больше количество деревьев, тем меньше ошибка. Но при заданном max_depth = 2 и n_trees>=24 модель начинает переобучаться. \n",
    "\n",
    "Рассчитаем ошибки с числом деревьев 23 -- оптимальное значение для max_depth = 2"
   ]
  },
  {
   "cell_type": "code",
   "execution_count": 195,
   "metadata": {},
   "outputs": [
    {
     "name": "stdout",
     "output_type": "stream",
     "text": [
      "Ошибка алгоритма из 23 деревьев глубиной 2     с шагом 0.1 на тренировочной выборке: 2772.275603146106\n",
      "Ошибка алгоритма из 23 деревьев глубиной 2     с шагом 0.1 на тестовой выборке: 3026.2954152870543 \n",
      "\n"
     ]
    }
   ],
   "source": [
    "# Число деревьев в ансамбле\n",
    "n_trees = 23\n",
    "\n",
    "# для простоты примем коэффициенты равными 1\n",
    "coefs = [1] * n_trees\n",
    "\n",
    "# Максимальная глубина деревьев\n",
    "max_depth = 2\n",
    "\n",
    "# Шаг\n",
    "eta = 0.1\n",
    "\n",
    "trees, train_errors, test_errors = gb_fit(n_trees, max_depth, X_train, X_test, y_train, y_test, coefs, eta)\n",
    "\n",
    "evaluate_alg(X_train, X_test, y_train, y_test, trees, coefs, eta)"
   ]
  },
  {
   "cell_type": "markdown",
   "metadata": {},
   "source": [
    "Еще понизим значение max_depth"
   ]
  },
  {
   "cell_type": "code",
   "execution_count": 196,
   "metadata": {},
   "outputs": [
    {
     "data": {
      "image/png": "[encoded data removed]",
      "text/plain": [
       "<Figure size 432x288 with 1 Axes>"
      ]
     },
     "metadata": {
      "needs_background": "light"
     },
     "output_type": "display_data"
    }
   ],
   "source": [
    "n_trees = 60\n",
    "\n",
    "# для простоты примем коэффициенты равными 1\n",
    "coefs = [1] * n_trees\n",
    "\n",
    "# Шаг\n",
    "eta = 0.1\n",
    "\n",
    "# Максимальная глубина деревьев\n",
    "max_depth = 1\n",
    "\n",
    "def prediction_trees(X_train, X_test, y_train, max_depth, y_test, coefs, eta):\n",
    "    x = np.arange(1,60,1)\n",
    "    y = [[],[]]\n",
    "    for i in x:\n",
    "        trees, train_errors, test_errors = gb_fit(i, max_depth, X_train, X_test, y_train, y_test, coefs, eta)\n",
    "        train_prediction = gb_predict(X_train, trees, coefs, eta)\n",
    "        train_err = mean_squared_error(y_train, train_prediction)\n",
    "        test_prediction = gb_predict(X_test, trees, coefs, eta)\n",
    "        test_err = mean_squared_error(y_test, test_prediction)\n",
    "        y[0].append(train_err)\n",
    "        y[1].append(test_err)\n",
    "    plt.title('Dependence of MSE on n_trees')\n",
    "    plt.xlabel('n_trees')\n",
    "    plt.ylabel('MSE')\n",
    "    plt.plot(x, y[0], label='train error')\n",
    "    plt.plot(x, y[1], label='test error')\n",
    "    plt.legend(loc='upper right')\n",
    "    plt.show()\n",
    "    \n",
    "prediction_trees(X_train, X_test, y_train, max_depth, y_test, coefs, eta)"
   ]
  },
  {
   "cell_type": "markdown",
   "metadata": {},
   "source": [
    "Таким образом, чем больше количество деревьев, тем меньше ошибка. Но при заданном max_depth = 1 модель не переобучена. \n",
    "\n",
    "Рассчитаем ошибки с числом деревьев 50 -- оптимальное значение для max_depth = 1"
   ]
  },
  {
   "cell_type": "code",
   "execution_count": 203,
   "metadata": {
    "scrolled": true
   },
   "outputs": [
    {
     "name": "stdout",
     "output_type": "stream",
     "text": [
      "Ошибка алгоритма из 50 деревьев глубиной 1     с шагом 0.1 на тренировочной выборке: 2785.522184200405\n",
      "Ошибка алгоритма из 50 деревьев глубиной 1     с шагом 0.1 на тестовой выборке: 2887.1427126450512 \n",
      "\n"
     ]
    }
   ],
   "source": [
    "# Число деревьев в ансамбле\n",
    "n_trees = 50\n",
    "\n",
    "# для простоты примем коэффициенты равными 1\n",
    "coefs = [1] * n_trees\n",
    "\n",
    "# Максимальная глубина деревьев\n",
    "max_depth = 1\n",
    "\n",
    "# Шаг\n",
    "eta = 0.1\n",
    "\n",
    "trees, train_errors, test_errors = gb_fit(n_trees, max_depth, X_train, X_test, y_train, y_test, coefs, eta)\n",
    "\n",
    "evaluate_alg(X_train, X_test, y_train, y_test, trees, coefs, eta)"
   ]
  },
  {
   "cell_type": "markdown",
   "metadata": {},
   "source": [
    "Наилучшие параметры модели: max_depth = 1, n_trees = 50. Но в такой модели слишком высокое значение n_trees, а MSE не сильно отличается от аналогичного значения для параметров max_depth = 2, n_trees = 23."
   ]
  },
  {
   "cell_type": "markdown",
   "metadata": {},
   "source": [
    "Исследуем параметр max_depth для n_trees = 23, 35 и 50"
   ]
  },
  {
   "cell_type": "code",
   "execution_count": 211,
   "metadata": {},
   "outputs": [],
   "source": [
    "# Число деревьев в ансамбле\n",
    "n_trees = 35\n",
    "\n",
    "# для простоты примем коэффициенты равными 1\n",
    "coefs = [1] * n_trees\n",
    "\n",
    "# Шаг\n",
    "eta = 0.1\n",
    "\n",
    "def prediction_depth(n_trees, X_train, X_test, y_train, y_test, coefs, eta):\n",
    "    x = np.arange(1,6,1)\n",
    "    y = [[],[]]\n",
    "    for i in x:\n",
    "        trees, train_errors, test_errors = gb_fit(n_trees, i, X_train, X_test, y_train, y_test, coefs, eta)\n",
    "        train_prediction = gb_predict(X_train, trees, coefs, eta)\n",
    "        train_err = mean_squared_error(y_train, train_prediction)\n",
    "        test_prediction = gb_predict(X_test, trees, coefs, eta)\n",
    "        test_err = mean_squared_error(y_test, test_prediction)\n",
    "        y[0].append(train_err)\n",
    "        y[1].append(test_err)\n",
    "    plt.title('Dependence of MSE on max_depth')\n",
    "    plt.xlabel('max_depth')\n",
    "    plt.ylabel('MSE')\n",
    "    plt.plot(x, y[0], label='train error')\n",
    "    plt.plot(x, y[1], label='test error')\n",
    "    plt.legend(loc='upper right')\n",
    "    plt.show()"
   ]
  },
  {
   "cell_type": "code",
   "execution_count": 212,
   "metadata": {
    "scrolled": false
   },
   "outputs": [
    {
     "data": {
      "image/png": "[encoded data removed]",
      "text/plain": [
       "<Figure size 432x288 with 1 Axes>"
      ]
     },
     "metadata": {
      "needs_background": "light"
     },
     "output_type": "display_data"
    }
   ],
   "source": [
    "prediction_depth(n_trees, X_train, X_test, y_train, y_test, coefs, eta)"
   ]
  },
  {
   "cell_type": "markdown",
   "metadata": {},
   "source": [
    "Таким образом, чем больше максимальная глубина дерева, тем меньше ошибка на train. Однако на test при max_depth>=2 значениен MSE монотонно возрастает. Оптимальное значени max_depth равно 1. "
   ]
  },
  {
   "cell_type": "markdown",
   "metadata": {},
   "source": [
    "Рассчитаем ошибку для модели с max_depth = 1"
   ]
  },
  {
   "cell_type": "code",
   "execution_count": 256,
   "metadata": {
    "scrolled": false
   },
   "outputs": [
    {
     "name": "stdout",
     "output_type": "stream",
     "text": [
      "Ошибка алгоритма из 35 деревьев глубиной 1     с шагом 0.1 на тренировочной выборке: 2961.7966733156136\n",
      "Ошибка алгоритма из 35 деревьев глубиной 1     с шагом 0.1 на тестовой выборке: 3033.356106070442 \n",
      "\n"
     ]
    }
   ],
   "source": [
    "# Число деревьев в ансамбле\n",
    "n_trees = 35\n",
    "\n",
    "# для простоты примем коэффициенты равными 1\n",
    "coefs = [1] * n_trees\n",
    "\n",
    "# Максимальная глубина деревьев\n",
    "max_depth = 1\n",
    "\n",
    "# Шаг\n",
    "eta = 0.1\n",
    "\n",
    "trees, train_errors, test_errors = gb_fit(n_trees, max_depth, X_train, X_test, y_train, y_test, coefs, eta)\n",
    "\n",
    "evaluate_alg(X_train, X_test, y_train, y_test, trees, coefs, eta)"
   ]
  },
  {
   "cell_type": "code",
   "execution_count": 214,
   "metadata": {},
   "outputs": [],
   "source": [
    "# Число деревьев в ансамбле\n",
    "n_trees = 23\n",
    "\n",
    "# для простоты примем коэффициенты равными 1\n",
    "coefs = [1] * n_trees\n",
    "\n",
    "# Шаг\n",
    "eta = 0.1\n",
    "\n",
    "def prediction_depth(n_trees, X_train, X_test, y_train, y_test, coefs, eta):\n",
    "    x = np.arange(1,6,1)\n",
    "    y = [[],[]]\n",
    "    for i in x:\n",
    "        trees, train_errors, test_errors = gb_fit(n_trees, i, X_train, X_test, y_train, y_test, coefs, eta)\n",
    "        train_prediction = gb_predict(X_train, trees, coefs, eta)\n",
    "        train_err = mean_squared_error(y_train, train_prediction)\n",
    "        test_prediction = gb_predict(X_test, trees, coefs, eta)\n",
    "        test_err = mean_squared_error(y_test, test_prediction)\n",
    "        y[0].append(train_err)\n",
    "        y[1].append(test_err)\n",
    "    plt.title('Dependence of MSE on max_depth')\n",
    "    plt.xlabel('max_depth')\n",
    "    plt.ylabel('MSE')\n",
    "    plt.plot(x, y[0], label='train error')\n",
    "    plt.plot(x, y[1], label='test error')\n",
    "    plt.legend(loc='upper right')\n",
    "    plt.show()"
   ]
  },
  {
   "cell_type": "code",
   "execution_count": 215,
   "metadata": {
    "scrolled": false
   },
   "outputs": [
    {
     "data": {
      "image/png": "[encoded data removed]",
      "text/plain": [
       "<Figure size 432x288 with 1 Axes>"
      ]
     },
     "metadata": {
      "needs_background": "light"
     },
     "output_type": "display_data"
    }
   ],
   "source": [
    "prediction_depth(n_trees, X_train, X_test, y_train, y_test, coefs, eta)"
   ]
  },
  {
   "cell_type": "markdown",
   "metadata": {},
   "source": [
    "Таким образом, чем больше максимальная глубина дерева, тем меньше ошибка на train. Однако на test при max_depth>=2 значениен MSE монотонно возрастает. Оптимальное значени max_depth равно 2. "
   ]
  },
  {
   "cell_type": "markdown",
   "metadata": {},
   "source": [
    "Рассчитаем ошибку для модели с max_depth = 2"
   ]
  },
  {
   "cell_type": "code",
   "execution_count": 260,
   "metadata": {
    "scrolled": false
   },
   "outputs": [
    {
     "name": "stdout",
     "output_type": "stream",
     "text": [
      "Ошибка алгоритма из 23 деревьев глубиной 2     с шагом 0.1 на тренировочной выборке: 2772.275603146106\n",
      "Ошибка алгоритма из 23 деревьев глубиной 2     с шагом 0.1 на тестовой выборке: 3026.2954152870543 \n",
      "\n"
     ]
    }
   ],
   "source": [
    "# Число деревьев в ансамбле\n",
    "n_trees = 23\n",
    "\n",
    "# для простоты примем коэффициенты равными 1\n",
    "coefs = [1] * n_trees\n",
    "\n",
    "# Максимальная глубина деревьев\n",
    "max_depth = 2\n",
    "\n",
    "# Шаг\n",
    "eta = 0.1\n",
    "\n",
    "trees_gb, train_errors_gb, test_errors_gb = gb_fit(n_trees, max_depth, X_train, X_test, y_train, y_test, coefs, eta)\n",
    "\n",
    "evaluate_alg(X_train, X_test, y_train, y_test, trees_gb, coefs, eta)"
   ]
  },
  {
   "cell_type": "code",
   "execution_count": 218,
   "metadata": {},
   "outputs": [],
   "source": [
    "# Число деревьев в ансамбле\n",
    "n_trees = 50\n",
    "\n",
    "# для простоты примем коэффициенты равными 1\n",
    "coefs = [1] * n_trees\n",
    "\n",
    "# Шаг\n",
    "eta = 0.1\n",
    "\n",
    "def prediction_depth(n_trees, X_train, X_test, y_train, y_test, coefs, eta):\n",
    "    x = np.arange(1,6,1)\n",
    "    y = [[],[]]\n",
    "    for i in x:\n",
    "        trees, train_errors, test_errors = gb_fit(n_trees, i, X_train, X_test, y_train, y_test, coefs, eta)\n",
    "        train_prediction = gb_predict(X_train, trees, coefs, eta)\n",
    "        train_err = mean_squared_error(y_train, train_prediction)\n",
    "        test_prediction = gb_predict(X_test, trees, coefs, eta)\n",
    "        test_err = mean_squared_error(y_test, test_prediction)\n",
    "        y[0].append(train_err)\n",
    "        y[1].append(test_err)\n",
    "    plt.title('Dependence of MSE on max_depth')\n",
    "    plt.xlabel('max_depth')\n",
    "    plt.ylabel('MSE')\n",
    "    plt.plot(x, y[0], label='train error')\n",
    "    plt.plot(x, y[1], label='test error')\n",
    "    plt.legend(loc='upper right')\n",
    "    plt.show()"
   ]
  },
  {
   "cell_type": "code",
   "execution_count": 219,
   "metadata": {
    "scrolled": false
   },
   "outputs": [
    {
     "data": {
      "image/png": "[encoded data removed]",
      "text/plain": [
       "<Figure size 432x288 with 1 Axes>"
      ]
     },
     "metadata": {
      "needs_background": "light"
     },
     "output_type": "display_data"
    }
   ],
   "source": [
    "prediction_depth(n_trees, X_train, X_test, y_train, y_test, coefs, eta)"
   ]
  },
  {
   "cell_type": "markdown",
   "metadata": {},
   "source": [
    "Таким образом, чем больше максимальная глубина дерева, тем меньше ошибка на train. Однако на test при max_depth>=2 значениен MSE монотонно возрастает. Оптимальное значени max_depth равно 1. "
   ]
  },
  {
   "cell_type": "markdown",
   "metadata": {},
   "source": [
    "Рассчитаем ошибку для модели с max_depth = 1"
   ]
  },
  {
   "cell_type": "code",
   "execution_count": 257,
   "metadata": {
    "scrolled": true
   },
   "outputs": [
    {
     "name": "stdout",
     "output_type": "stream",
     "text": [
      "Ошибка алгоритма из 50 деревьев глубиной 1     с шагом 0.1 на тренировочной выборке: 2785.522184200405\n",
      "Ошибка алгоритма из 50 деревьев глубиной 1     с шагом 0.1 на тестовой выборке: 2887.1427126450512 \n",
      "\n"
     ]
    }
   ],
   "source": [
    "# Число деревьев в ансамбле\n",
    "n_trees = 50\n",
    "\n",
    "# для простоты примем коэффициенты равными 1\n",
    "coefs = [1] * n_trees\n",
    "\n",
    "# Максимальная глубина деревьев\n",
    "max_depth = 1\n",
    "\n",
    "# Шаг\n",
    "eta = 0.1\n",
    "\n",
    "trees, train_errors, test_errors = gb_fit(n_trees, max_depth, X_train, X_test, y_train, y_test, coefs, eta)\n",
    "\n",
    "evaluate_alg(X_train, X_test, y_train, y_test, trees, coefs, eta)"
   ]
  },
  {
   "cell_type": "markdown",
   "metadata": {},
   "source": [
    "**Ответ:** Чем больше n_trees, тем меньше MSE. Однако, при определенном значении n_trees наступает переобучение. При max_depth>=2 значение MSE монотонно возрастает. Оптимальные значения параметров: n_trees = 23, max_depth = 2 (если ограничений по ресурсам работы модели нет, то параметры n_trees = 50, max_depth = 1 также дадут стабильный результат)."
   ]
  },
  {
   "cell_type": "markdown",
   "metadata": {},
   "source": [
    "**Задание 2*.** Модифицировать реализованный алгоритм, чтобы получился стохастический градиентный бустинг. Размер подвыборки принять равным 0.5. Сравнить на одном графике кривые изменения ошибки на тестовой выборке в зависимости от числа итераций.<a class=\"anchor\" id=\"Pr2\"></a>"
   ]
  },
  {
   "cell_type": "markdown",
   "metadata": {},
   "source": [
    "Функция нахождения подвыборки"
   ]
  },
  {
   "cell_type": "code",
   "execution_count": 252,
   "metadata": {},
   "outputs": [],
   "source": [
    "def get_subsample(len_sample):\n",
    "    # будем сохранять не сами признаки, а их индексы\n",
    "    sample_indexes = [i for i in range(len_sample)]\n",
    "    \n",
    "    len_subsample = int(len_sample / 2)\n",
    "    subsample = []\n",
    "    \n",
    "    random.shuffle(sample_indexes)\n",
    "    for _ in range(len_subsample):\n",
    "        subsample.append(sample_indexes.pop())\n",
    "        \n",
    "    return subsample"
   ]
  },
  {
   "cell_type": "markdown",
   "metadata": {},
   "source": [
    "Функция обучения стохастического градиентного бустинга"
   ]
  },
  {
   "cell_type": "code",
   "execution_count": 253,
   "metadata": {},
   "outputs": [],
   "source": [
    "def sgb_fit(n_trees, max_depth, X_train, X_test, y_train, y_test, coefs, eta):\n",
    "    \n",
    "    # Деревья будем записывать в список\n",
    "    trees = []\n",
    "    \n",
    "    # Будем записывать ошибки на обучающей и тестовой выборке на каждой итерации в список\n",
    "    train_errors = []\n",
    "    test_errors = []\n",
    "       \n",
    "    for i in range(n_trees):\n",
    "        tree = DecisionTreeRegressor(max_depth=max_depth, random_state=42)\n",
    "        \n",
    "        # генерируем случайныe индексы объектов выборки\n",
    "        X_train_ind = get_subsample(X_train.shape[0])\n",
    "\n",
    "        # инициализируем бустинг начальным алгоритмом, возвращающим ноль, \n",
    "        # поэтому первый алгоритм просто обучаем на выборке и добавляем в список\n",
    "        if len(trees) == 0:\n",
    "                  \n",
    "            # обучаем первое дерево на обучающей выборке\n",
    "            tree.fit(X_train[X_train_ind], y_train[X_train_ind])\n",
    "            \n",
    "            train_errors.append(mean_squared_error(y_train[X_train_ind], gb_predict(X_train[X_train_ind], trees, coefs, eta)))\n",
    "            test_errors.append(mean_squared_error(y_test, gb_predict(X_test, trees, coefs, eta)))\n",
    "        else:\n",
    "            # Получим ответы на текущей композиции\n",
    "            target = gb_predict(X_train[X_train_ind], trees, coefs, eta)\n",
    "            \n",
    "            # алгоритмы начиная со второго обучаем на сдвиг\n",
    "            tree.fit(X_train[X_train_ind], bias(y_train[X_train_ind], target))\n",
    "            \n",
    "            train_errors.append(mean_squared_error(y_train[X_train_ind], gb_predict(X_train[X_train_ind], trees, coefs, eta)))\n",
    "            test_errors.append(mean_squared_error(y_test, gb_predict(X_test, trees, coefs, eta)))\n",
    "\n",
    "        trees.append(tree)\n",
    "        \n",
    "    return trees, train_errors, test_errors"
   ]
  },
  {
   "cell_type": "markdown",
   "metadata": {},
   "source": [
    "Построение модели стохастического градиентного бустинга с оптимальными параметрами, найденными в задаче 1"
   ]
  },
  {
   "cell_type": "code",
   "execution_count": 261,
   "metadata": {},
   "outputs": [
    {
     "name": "stdout",
     "output_type": "stream",
     "text": [
      "Ошибка алгоритма из 23 деревьев глубиной 2     с шагом 0.1 на тренировочной выборке: 2777.807383308848\n",
      "Ошибка алгоритма из 23 деревьев глубиной 2     с шагом 0.1 на тестовой выборке: 2986.560628396826 \n",
      "\n"
     ]
    }
   ],
   "source": [
    "# Число деревьев в ансамбле\n",
    "n_trees = 23\n",
    "\n",
    "# для простоты примем коэффициенты равными 1\n",
    "coefs = [1] * n_trees\n",
    "\n",
    "# Максимальная глубина деревьев\n",
    "max_depth = 2\n",
    "\n",
    "# Шаг\n",
    "eta = 0.1\n",
    "\n",
    "trees_sgb, train_errors_sgb, test_errors_sgb = sgb_fit(n_trees, max_depth, X_train, X_test, y_train, y_test, coefs, eta)\n",
    "\n",
    "evaluate_alg(X_train, X_test, y_train, y_test, trees_sgb, coefs, eta)"
   ]
  },
  {
   "cell_type": "markdown",
   "metadata": {},
   "source": [
    "Визуализация кривых изменения ошибки на тестовой выборке градиентного и стохастического градиентного бустингов в зависимости от числа итераций"
   ]
  },
  {
   "cell_type": "code",
   "execution_count": 266,
   "metadata": {
    "scrolled": true
   },
   "outputs": [
    {
     "data": {
      "image/png": "[encoded data removed]",
      "text/plain": [
       "<Figure size 432x288 with 1 Axes>"
      ]
     },
     "metadata": {
      "needs_background": "light"
     },
     "output_type": "display_data"
    }
   ],
   "source": [
    "plt.title('Test MSE')\n",
    "plt.xlabel('iterations')\n",
    "plt.ylabel('MSE')\n",
    "plt.plot(test_errors_gb, label='gradient boosting', color = 'g')\n",
    "plt.plot(test_errors_sgb, label='stochastic gradient boosting', color = 'r')\n",
    "plt.legend(loc='upper right')\n",
    "plt.show()"
   ]
  },
  {
   "cell_type": "markdown",
   "metadata": {},
   "source": [
    "**Вывод:** алгоритм градиентного бустинга работает быстрее, величина MSE на тесте у стохастического градиентного бустинга меньше, чем аналогичный показатель у градиентного бустинга."
   ]
  },
  {
   "cell_type": "markdown",
   "metadata": {},
   "source": [
    "**Задание 3*.** Реализовать алгоритм градиетного бустинга, основанный на реализации решающего дерева из ДЗ4 / методички к уроку 4. Сделать выводы о качестве алгоритма по сравнению с реализацией из п.1. <a class=\"anchor\" id=\"Pr3\"></a>"
   ]
  },
  {
   "cell_type": "markdown",
   "metadata": {},
   "source": [
    "Алгоритм построения решающего дерева из ДЗ-4 \n",
    "(см. подробнее задача 3 из HW-4 https://github.com/EkaterinaBazhanova/DAalgorithm/blob/EkaterinaBazhanova-patch-4/HW-4.ipynb)"
   ]
  },
  {
   "cell_type": "code",
   "execution_count": 267,
   "metadata": {},
   "outputs": [],
   "source": [
    "# Реализуем класс узла\n",
    "\n",
    "class Node:\n",
    "    \n",
    "    def __init__(self, index, t, true_branch, false_branch):\n",
    "        self.index = index  # индекс признака, по которому ведется сравнение с порогом в этом узле\n",
    "        self.t = t  # значение порога\n",
    "        self.true_branch = true_branch  # поддерево, удовлетворяющее условию в узле\n",
    "        self.false_branch = false_branch  # поддерево, не удовлетворяющее условию в узле"
   ]
  },
  {
   "cell_type": "code",
   "execution_count": 268,
   "metadata": {},
   "outputs": [],
   "source": [
    "# Реаизуем класс терминального узла (листа)\n",
    "\n",
    "class Leaf:\n",
    "    \n",
    "    def __init__(self, data, targets):\n",
    "        self.data = data\n",
    "        self.targets = targets\n",
    "        self.prediction = self.predict()\n",
    "        \n",
    "    def predict(self):\n",
    "        # найдем среднее значение целевой переменной в выборке\n",
    "        prediction = sum(self.targets) / self.targets.shape[0]\n",
    "        \n",
    "        return prediction       "
   ]
  },
  {
   "cell_type": "code",
   "execution_count": 269,
   "metadata": {},
   "outputs": [],
   "source": [
    "# Расчет дисперсии\n",
    "\n",
    "def variance(targets):\n",
    "    # вычислим среднее значение целевого признака\n",
    "    mean = sum(targets) / targets.shape[0]\n",
    "        \n",
    "    #вычисляем дисперсию\n",
    "    var = 1/targets.shape[0] * sum((targets - mean) ** 2)\n",
    "    return var"
   ]
  },
  {
   "cell_type": "code",
   "execution_count": 270,
   "metadata": {},
   "outputs": [],
   "source": [
    "# Расчет качества\n",
    "\n",
    "def quality(left_targets, right_targets, current_variance):\n",
    "\n",
    "    # доля выбоки, ушедшая в левое поддерево\n",
    "    p = float(left_targets.shape[0]) / (left_targets.shape[0] + right_targets.shape[0])\n",
    "    \n",
    "    return current_variance - p * variance(left_targets) - (1 - p) * variance(right_targets)"
   ]
  },
  {
   "cell_type": "code",
   "execution_count": 271,
   "metadata": {},
   "outputs": [],
   "source": [
    "# Разбиение датасета в узле\n",
    "\n",
    "def split(data, targets, index, t):\n",
    "    \n",
    "    left = np.where(data[:, index] <= t)\n",
    "    right = np.where(data[:, index] > t)\n",
    "        \n",
    "    true_data = data[left]\n",
    "    false_data = data[right]\n",
    "    true_targets = targets[left]\n",
    "    false_targets = targets[right]\n",
    "    \n",
    " \n",
    "    return true_data, false_data, true_targets, false_targets"
   ]
  },
  {
   "cell_type": "code",
   "execution_count": 272,
   "metadata": {},
   "outputs": [],
   "source": [
    "# Нахождение наилучшего разбиения\n",
    "\n",
    "def find_best_split(data, targets, min_samples_leaf):\n",
    "    \n",
    "    current_variance = variance(targets)\n",
    "\n",
    "    best_quality = 0\n",
    "    best_t = None\n",
    "    best_index = None\n",
    "    \n",
    "    n_features = data.shape[1]\n",
    "    \n",
    "    for index in range(n_features):\n",
    "        # будем проверять только уникальные значения признака, исключая повторения\n",
    "        t_values = np.unique([row[index] for row in data])\n",
    "        \n",
    "        for t in t_values:\n",
    "            true_data, false_data, true_targets, false_targets = split(data, targets, index, t)\n",
    "           \n",
    "            #  КРИТЕРИЙ ОСТАНОВА: пропускаем разбиения, в которых в узле остается менее  min_samples_leaf объектов\n",
    "            if len(true_data) <  min_samples_leaf or len(false_data) <  min_samples_leaf:\n",
    "                continue\n",
    "            \n",
    "            current_quality = quality(true_targets, false_targets, current_variance)\n",
    "            \n",
    "            #  выбираем порог, на котором получается максимальный прирост качества\n",
    "            if current_quality > best_quality:\n",
    "                best_quality, best_t, best_index = current_quality, t, index\n",
    "\n",
    "    return best_quality, best_t, best_index"
   ]
  },
  {
   "cell_type": "code",
   "execution_count": 273,
   "metadata": {},
   "outputs": [],
   "source": [
    "# Построение дерева с помощью рекурсивной функции\n",
    "\n",
    "def build_tree(data, targets, max_depth, min_samples_leaf, depth = 1):\n",
    "\n",
    "    #ищем лучшее разбиение\n",
    "    quality, t, index = find_best_split(data, targets, min_samples_leaf)\n",
    "    \n",
    "   # КРИТЕРИЙ ОСТАНОВА: прекращаем рекурсию, когда нет прироста в качества\n",
    "    if quality == 0:\n",
    "        return Leaf(data, targets)\n",
    "\n",
    "    #осуществляем разбиение по лучшему найденному\n",
    "    true_data, false_data, true_targets, false_targets = split(data, targets, index, t)\n",
    "\n",
    "    # КРИТЕРИЙ ОСТАНОВА: ограничение максимальной глубины дерева\n",
    "    if depth >= max_depth:\n",
    "        true_branch = Leaf(true_data, true_targets)\n",
    "        false_branch = Leaf(false_data, false_targets)\n",
    "        return Node(index, t, true_branch, false_branch)\n",
    "           \n",
    "    # Рекурсивно строим два поддерева\n",
    "    true_branch = build_tree(true_data, true_targets, max_depth, min_samples_leaf, depth + 1)\n",
    "    false_branch = build_tree(false_data, false_targets, max_depth, min_samples_leaf, depth + 1)\n",
    "\n",
    "    # Возвращаем класс узла со всеми поддеревьями, то есть целого дерева\n",
    "    return Node(index, t, true_branch, false_branch)"
   ]
  },
  {
   "cell_type": "code",
   "execution_count": 274,
   "metadata": {},
   "outputs": [],
   "source": [
    "def classify_object(obj, node):\n",
    "\n",
    "    #  Останавливаем рекурсию, если достигли листа\n",
    "    if isinstance(node, Leaf):\n",
    "        answer = node.prediction\n",
    "        return answer\n",
    "\n",
    "    if obj[node.index] <= node.t:\n",
    "        return classify_object(obj, node.true_branch)\n",
    "    else:\n",
    "        return classify_object(obj, node.false_branch)"
   ]
  },
  {
   "cell_type": "code",
   "execution_count": 275,
   "metadata": {},
   "outputs": [],
   "source": [
    "def predict(data, tree):\n",
    "    \n",
    "    targets = []\n",
    "    for obj in data:\n",
    "        prediction = classify_object(obj, tree)\n",
    "        targets.append(prediction)\n",
    "    return targets"
   ]
  },
  {
   "cell_type": "markdown",
   "metadata": {},
   "source": [
    "Функция обучения градиентного бустинга (вместо встренного DecisionTreeRegressor используется приведенный выше алгоритм)"
   ]
  },
  {
   "cell_type": "code",
   "execution_count": 276,
   "metadata": {},
   "outputs": [],
   "source": [
    "def gb_predict(X, trees_list, coef_list, eta):\n",
    "    # Реализуемый алгоритм градиентного бустинга будет инициализироваться нулевыми значениями,\n",
    "    # поэтому все деревья из списка trees_list уже являются дополнительными и при предсказании прибавляются с шагом eta\n",
    "    return np.array([sum([eta* coef * predict([x], alg)[0] for alg, coef in zip(trees_list, coef_list)]) for x in X])"
   ]
  },
  {
   "cell_type": "code",
   "execution_count": 277,
   "metadata": {},
   "outputs": [],
   "source": [
    "def gb_fit(n_trees, max_depth, X_train, X_test, y_train, y_test, coefs, eta):\n",
    "    \n",
    "    # Деревья будем записывать в список\n",
    "    trees = []\n",
    "    \n",
    "    # Будем записывать ошибки на обучающей и тестовой выборке на каждой итерации в список\n",
    "    train_errors = []\n",
    "    test_errors = []\n",
    "    \n",
    "    for i in range(n_trees):\n",
    "        tree = build_tree(X_train, y_train,max_depth, 3)\n",
    "        # инициализируем бустинг начальным алгоритмом, возвращающим ноль, \n",
    "        # поэтому первый алгоритм просто обучаем на выборке и добавляем в список\n",
    "        if len(trees) == 0:\n",
    "            # обучаем первое дерево на обучающей выборке\n",
    "            train_errors.append(mean_squared_error(y_train, gb_predict(X_train, trees, coefs, eta)))\n",
    "            test_errors.append(mean_squared_error(y_test, gb_predict(X_test, trees, coefs, eta)))\n",
    "        else:\n",
    "            # Получим ответы на текущей композиции\n",
    "            target = gb_predict(X_train, trees, coefs, eta)\n",
    "            \n",
    "            # алгоритмы начиная со второго обучаем на сдвиг\n",
    "            tree = build_tree(X_train, bias(y_train, target), max_depth, 3)\n",
    "            \n",
    "            train_errors.append(mean_squared_error(y_train, gb_predict(X_train, trees, coefs, eta)))\n",
    "            test_errors.append(mean_squared_error(y_test, gb_predict(X_test, trees, coefs, eta)))\n",
    "\n",
    "        trees.append(tree)\n",
    "        \n",
    "    return trees, train_errors, test_errors"
   ]
  },
  {
   "cell_type": "code",
   "execution_count": 278,
   "metadata": {},
   "outputs": [
    {
     "name": "stdout",
     "output_type": "stream",
     "text": [
      "Ошибка алгоритма из 23 деревьев глубиной 2     с шагом 0.1 на тренировочной выборке: 2781.3017166527284\n",
      "Ошибка алгоритма из 23 деревьев глубиной 2     с шагом 0.1 на тестовой выборке: 3006.707793587619 \n",
      "\n"
     ]
    }
   ],
   "source": [
    "# Число деревьев в ансамбле\n",
    "n_trees = 23\n",
    "\n",
    "# для простоты примем коэффициенты равными 1\n",
    "coefs = [1] * n_trees\n",
    "\n",
    "# Максимальная глубина деревьев\n",
    "max_depth = 2\n",
    "\n",
    "# Шаг\n",
    "eta = 0.1\n",
    "\n",
    "trees_DT, train_errors, test_errors_DT = gb_fit(n_trees, max_depth, X_train, X_test, y_train, y_test, coefs, eta)\n",
    "evaluate_alg(X_train, X_test, y_train, y_test, trees_DT, coefs, eta)"
   ]
  },
  {
   "cell_type": "markdown",
   "metadata": {},
   "source": [
    "Оценка величин MSE на тестовых выборках у двух алгоритмов (задачи 1 и 3)"
   ]
  },
  {
   "cell_type": "code",
   "execution_count": 282,
   "metadata": {
    "scrolled": true
   },
   "outputs": [
    {
     "data": {
      "image/png": "[encoded data removed]",
      "text/plain": [
       "<Figure size 432x288 with 1 Axes>"
      ]
     },
     "metadata": {
      "needs_background": "light"
     },
     "output_type": "display_data"
    }
   ],
   "source": [
    "plt.title('Test MSE')\n",
    "plt.xlabel('iterations')\n",
    "plt.ylabel('MSE')\n",
    "plt.plot(test_errors_gb, label='gradient boosting', color = 'g')\n",
    "plt.plot(test_errors_DT, label='gradient boosting with my tree', color = 'b')\n",
    "plt.legend(loc='upper right')\n",
    "plt.show()"
   ]
  },
  {
   "cell_type": "markdown",
   "metadata": {},
   "source": [
    "**Вывод:**  Значение MSE у градиентного бустинга в задачах 1 и 3 близки. Чуть лучше показатель в задаче 3 (градиентный бустинг с деревом из ДЗ-4)."
   ]
  }
 ],
 "metadata": {
  "kernelspec": {
   "display_name": "Python 3",
   "language": "python",
   "name": "python3"
  },
  "language_info": {
   "codemirror_mode": {
    "name": "ipython",
    "version": 3
   },
   "file_extension": ".py",
   "mimetype": "text/x-python",
   "name": "python",
   "nbconvert_exporter": "python",
   "pygments_lexer": "ipython3",
   "version": "3.8.5"
  }
 },
 "nbformat": 4,
 "nbformat_minor": 4
}
