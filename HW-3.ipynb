{
 "cells": [
  {
   "cell_type": "code",
   "execution_count": 853,
   "metadata": {},
   "outputs": [],
   "source": [
    "import matplotlib.pyplot as plt\n",
    "import numpy as np"
   ]
  },
  {
   "cell_type": "markdown",
   "metadata": {},
   "source": [
    "# Домашнее задание №3"
   ]
  },
  {
   "cell_type": "markdown",
   "metadata": {},
   "source": [
    "Исходные данные"
   ]
  },
  {
   "cell_type": "code",
   "execution_count": 854,
   "metadata": {},
   "outputs": [],
   "source": [
    "X = np.array([[1, 1, 1, 1, 1, 1, 1, 1, 1, 1],\n",
    "              [1, 1, 2, 1, 3, 0, 5, 10, 1, 2],\n",
    "              [500, 700, 750, 600, 1450,\n",
    "               800, 1500, 2000, 450, 1000],\n",
    "              [1, 1, 2, 1, 2, 1, 3, 3, 1, 2]], dtype = np.float64)\n",
    "\n",
    "y = np.array([0, 0, 1, 0, 1, 0, 1, 0, 1, 1], dtype = np.float64)"
   ]
  },
  {
   "cell_type": "markdown",
   "metadata": {},
   "source": [
    "**Задача 1*.**Измените функцию calc_logloss так, чтобы нули по возможности не попадали в np.log.  "
   ]
  },
  {
   "cell_type": "markdown",
   "metadata": {},
   "source": [
    "Реализуем функцию сигмоиды\n",
    "$$\\sigma(z) = \\frac{1}{1 + exp(-z)}.$$"
   ]
  },
  {
   "cell_type": "code",
   "execution_count": 855,
   "metadata": {},
   "outputs": [],
   "source": [
    "def sigmoid(x):\n",
    "    return 1 / (1 + np.exp(-x))"
   ]
  },
  {
   "cell_type": "markdown",
   "metadata": {},
   "source": [
    "Реализуем функцию потерь log loss\n",
    "$$logloss(A,y) = - \\sum^{l}_{i=1} (y_{i} \\text{ln}A_i + (1 - y_{i})\\text{ln} (1-A_i)),$$\n",
    " \n",
    "где $A_i=\\frac{1}{1 + exp(-\\left \\langle w,x_{i} \\right \\rangle)}.$\n",
    "\n",
    "В векторной форме:\n",
    "\n",
    "$$logloss(A,y) = - ((y, ln(A)) - ((1 - y), ln(1-A)))$$\n",
    "\n",
    "где $A=\\frac{1}{1 + exp(-(w,X))}.$"
   ]
  },
  {
   "cell_type": "code",
   "execution_count": 856,
   "metadata": {},
   "outputs": [],
   "source": [
    "def calc_logloss(y, y_pred):\n",
    "    err = -np.mean(y*np.log(y_pred) + (1.0 - y) * np.log(1.0 - y_pred))\n",
    "    #в векторной форме\n",
    "    # err = - (y @ np.log(y_pred) + (1.0 - y) @ np.log(1.0 - y_pred)) / y.shape[0] \n",
    "    return err"
   ]
  },
  {
   "cell_type": "markdown",
   "metadata": {},
   "source": [
    "Получаем ошибку из-за того, что выражение, стоящее под знаком логарифма, обращается в 0."
   ]
  },
  {
   "cell_type": "code",
   "execution_count": 857,
   "metadata": {},
   "outputs": [
    {
     "name": "stderr",
     "output_type": "stream",
     "text": [
      "<ipython-input-856-50d025b792bc>:2: RuntimeWarning: divide by zero encountered in log\n",
      "  err = -np.mean(y*np.log(y_pred) + (1.0 - y) * np.log(1.0 - y_pred))\n",
      "<ipython-input-856-50d025b792bc>:2: RuntimeWarning: invalid value encountered in multiply\n",
      "  err = -np.mean(y*np.log(y_pred) + (1.0 - y) * np.log(1.0 - y_pred))\n"
     ]
    },
    {
     "data": {
      "text/plain": [
       "nan"
      ]
     },
     "execution_count": 857,
     "metadata": {},
     "output_type": "execute_result"
    }
   ],
   "source": [
    "w = np.array([1, 3, 2, 1])\n",
    "z = np.dot(w,X)\n",
    "y_pred = sigmoid(z)\n",
    "calc_logloss(y, y_pred)"
   ]
  },
  {
   "cell_type": "markdown",
   "metadata": {},
   "source": [
    "Исправим функцию ошибок, преобразовав выражения с логарифмом:\n",
    "$$ln(A) = ln(\\frac{1}{1 + exp(-(w,X))}) =$$\n",
    "$$ln(1) - ln(1 + exp(-(w,X))) = - ln(1 + exp(-(w,X))),$$\n",
    "\n",
    "$$ln(1 - A) = ln(\\frac{exp(-(w,X))}{1 + exp(-(w,X)))} = $$\n",
    "$$ln(exp(-(w,X))) - ln(1 + exp(-(w,X))) = -(w,X) - ln(1 + exp(-(w,X))).$$\n",
    "    "
   ]
  },
  {
   "cell_type": "code",
   "execution_count": 858,
   "metadata": {},
   "outputs": [],
   "source": [
    "def logloss(w, X, y):\n",
    "    z = np.dot(w,X)\n",
    "    a1 = - np.log(1 + np.exp(-z)) # ln(A)\n",
    "    a2 = - z + a1 # ln(1 - A)\n",
    "    err = (-np.dot(y,a1) - np.dot((1 - y), a2))/y.shape[0]\n",
    "    #err = - np.mean(y * a1 + (1.0 - y) * a2)\n",
    "    return err"
   ]
  },
  {
   "cell_type": "code",
   "execution_count": 859,
   "metadata": {},
   "outputs": [
    {
     "name": "stderr",
     "output_type": "stream",
     "text": [
      "<ipython-input-856-50d025b792bc>:2: RuntimeWarning: divide by zero encountered in log\n",
      "  err = -np.mean(y*np.log(y_pred) + (1.0 - y) * np.log(1.0 - y_pred))\n",
      "<ipython-input-856-50d025b792bc>:2: RuntimeWarning: invalid value encountered in multiply\n",
      "  err = -np.mean(y*np.log(y_pred) + (1.0 - y) * np.log(1.0 - y_pred))\n"
     ]
    },
    {
     "data": {
      "text/plain": [
       "(nan, 925.1)"
      ]
     },
     "execution_count": 859,
     "metadata": {},
     "output_type": "execute_result"
    }
   ],
   "source": [
    "w = np.array([1, 3, 2, 1])\n",
    "z = np.dot(w,X)\n",
    "y_pred = sigmoid(z)\n",
    "calc_logloss(y, y_pred), logloss(w, X, y)"
   ]
  },
  {
   "cell_type": "markdown",
   "metadata": {},
   "source": [
    "Функция logloss находит значения, в то время как calc_logloss выдает ошибку."
   ]
  },
  {
   "cell_type": "markdown",
   "metadata": {},
   "source": [
    "**Задача 2.** Подберите аргументы функции eval_model для логистической регрессии таким образом, чтобы log loss был минимальным."
   ]
  },
  {
   "cell_type": "markdown",
   "metadata": {},
   "source": [
    "Реализуем градиентный спуск\n",
    "\n",
    "$$w_{n+1} = w_{n} - \\alpha(\\nabla(logloss(A,y))) = $$\n",
    "\n",
    "$$w_{n} - \\alpha(\\frac{1}{l}(A-y)X^{T}),$$\n",
    "\n",
    "где $A=\\frac{1}{1 + exp(-\\left \\langle w,x_{i} \\right \\rangle)}.$"
   ]
  },
  {
   "cell_type": "code",
   "execution_count": 860,
   "metadata": {},
   "outputs": [],
   "source": [
    "def eval_model(X,y,iterations,alpha):\n",
    "    losses = []\n",
    "    np.random.seed(42)\n",
    "    W = np.random.randn(X.shape[0])\n",
    "    n = X.shape[1]\n",
    "    for i in range(1, iterations+1):\n",
    "        z = np.dot(W,X)\n",
    "        y_pred = sigmoid(z)\n",
    "        err = logloss(W,X,y)\n",
    "        losses.append(err)\n",
    "        W = W - alpha * (1/n * np.dot((y_pred - y),X.T))\n",
    "    plt.plot(losses)\n",
    "    plt.title('Losses')\n",
    "    plt.xlabel('iterations')\n",
    "    plt.ylabel('loss')\n",
    "    plt.show()\n",
    "    return W"
   ]
  },
  {
   "cell_type": "markdown",
   "metadata": {},
   "source": [
    "При фиксированном количестве итераций уменьшение $\\alpha$ приводит к уменьшению logloss. оптимальное значение $\\alpha$ = 1e-6."
   ]
  },
  {
   "cell_type": "markdown",
   "metadata": {},
   "source": [
    "Определим оптимальное количество итераций при $\\alpha$ = 1e-6."
   ]
  },
  {
   "cell_type": "code",
   "execution_count": 861,
   "metadata": {},
   "outputs": [
    {
     "data": {
      "image/png": "[encoded data removed]",
      "text/plain": [
       "<Figure size 432x288 with 1 Axes>"
      ]
     },
     "metadata": {
      "needs_background": "light"
     },
     "output_type": "display_data"
    },
    {
     "data": {
      "text/plain": [
       "array([ 0.49530381, -0.1395695 , -0.00243201,  1.52244284])"
      ]
     },
     "execution_count": 861,
     "metadata": {},
     "output_type": "execute_result"
    }
   ],
   "source": [
    "W_model = eval_model(X, y, 10000, 1e-6)\n",
    "W_model"
   ]
  },
  {
   "cell_type": "markdown",
   "metadata": {},
   "source": [
    "**Вывод:** Оптимальное количество итераций 1500, оптимальное значение скорости обучения 1e-6."
   ]
  },
  {
   "cell_type": "markdown",
   "metadata": {},
   "source": [
    "**Задача 3**. Создайте функцию calc_pred_proba, возвращающую предсказанную вероятность класса 1 (на вход подаются W, который уже посчитан функцией eval_model и X, на выходе - массив y_pred_proba)."
   ]
  },
  {
   "cell_type": "markdown",
   "metadata": {},
   "source": [
    "Создадим функцию для выполнения предсказаний. Вероятность отнесения объекта к классу 1 равна\n",
    "$$P(y=1|x) = \\frac{1}{1 + exp(-\\left \\langle w,x_{i} \\right \\rangle)}.$$"
   ]
  },
  {
   "cell_type": "code",
   "execution_count": 862,
   "metadata": {},
   "outputs": [],
   "source": [
    "def calc_pred_proba(w, X):\n",
    "    z = np.dot(w,X)\n",
    "    y_pred_proba = sigmoid(z)\n",
    "    return y_pred_proba"
   ]
  },
  {
   "cell_type": "markdown",
   "metadata": {},
   "source": [
    "Применение функции calc_pred_proba на векторе весов, посчитанном eval_model."
   ]
  },
  {
   "cell_type": "code",
   "execution_count": 863,
   "metadata": {},
   "outputs": [
    {
     "data": {
      "image/png": "[encoded data removed]",
      "text/plain": [
       "<Figure size 432x288 with 1 Axes>"
      ]
     },
     "metadata": {
      "needs_background": "light"
     },
     "output_type": "display_data"
    },
    {
     "name": "stdout",
     "output_type": "stream",
     "text": [
      "Предсказанная вероятность класса 1:\n",
      " [0.65988298 0.54406104 0.80801024 0.60342047 0.40030123 0.5184327\n",
      " 0.67175274 0.23155762 0.68660404 0.69625868]\n"
     ]
    }
   ],
   "source": [
    "W = eval_model(X, y, 1500, 1e-6)\n",
    "print(f'Предсказанная вероятность класса 1:\\n {calc_pred_proba(W, X)}')"
   ]
  },
  {
   "cell_type": "markdown",
   "metadata": {},
   "source": [
    "**Задача 4.** Создайте функцию calc_pred, возвращающую предсказанный класс (на вход подаются W, который уже посчитан функцией eval_model и X, на выходе - массив y_pred)."
   ]
  },
  {
   "cell_type": "code",
   "execution_count": 864,
   "metadata": {},
   "outputs": [],
   "source": [
    "def calc_pred(w, X):\n",
    "    y_pred_proba = calc_pred_proba(w, X)\n",
    "    # За порог отнесения к тому или иному классу примем вероятность 0.5\n",
    "    for i in range(len(y_pred_proba)):\n",
    "        if (y_pred_proba[i] > 0.5): \n",
    "            y_pred[i] = 1\n",
    "        elif (y_pred_proba[i] <= 0.5):\n",
    "            y_pred[i] = 0\n",
    "    return y_pred"
   ]
  },
  {
   "cell_type": "markdown",
   "metadata": {},
   "source": [
    "Применение функции calc_pred_proba на векторе весов, посчитанном eval_model."
   ]
  },
  {
   "cell_type": "code",
   "execution_count": 865,
   "metadata": {},
   "outputs": [
    {
     "data": {
      "image/png": "[encoded data removed]",
      "text/plain": [
       "<Figure size 432x288 with 1 Axes>"
      ]
     },
     "metadata": {
      "needs_background": "light"
     },
     "output_type": "display_data"
    },
    {
     "name": "stdout",
     "output_type": "stream",
     "text": [
      "Предсказанные классы:\n",
      " [1. 1. 1. 1. 0. 1. 1. 0. 1. 1.]\n"
     ]
    }
   ],
   "source": [
    "W = eval_model(X, y, 1500, 1e-6)\n",
    "print(f'Предсказанные классы:\\n {calc_pred(W, X)}')"
   ]
  },
  {
   "cell_type": "markdown",
   "metadata": {},
   "source": [
    "**Задача 5** Посчитайте Accuracy, матрицу ошибок, точность и полноту, а также F1 score."
   ]
  },
  {
   "cell_type": "code",
   "execution_count": 866,
   "metadata": {},
   "outputs": [],
   "source": [
    "from sklearn.metrics import f1_score, precision_score, recall_score, \\\n",
    "                            classification_report, confusion_matrix, \\\n",
    "                            accuracy_score, f1_score"
   ]
  },
  {
   "cell_type": "code",
   "execution_count": 867,
   "metadata": {},
   "outputs": [
    {
     "data": {
      "image/png": "[encoded data removed]",
      "text/plain": [
       "<Figure size 432x288 with 1 Axes>"
      ]
     },
     "metadata": {
      "needs_background": "light"
     },
     "output_type": "display_data"
    }
   ],
   "source": [
    "W = eval_model(X, y, 1500, 1e-6)\n",
    "y_pred = calc_pred(W, X)"
   ]
  },
  {
   "cell_type": "markdown",
   "metadata": {},
   "source": [
    "Вычислим accuracy -- доля правильных ответов.\n",
    "$$accuracy(a,x) = \\frac{1}{l} \\sum^{l}_{i=1}[a(x_{i})=y_{i}] = \\frac{5}{10} = \\frac{1}{2} = 0.5.$$"
   ]
  },
  {
   "cell_type": "code",
   "execution_count": 868,
   "metadata": {},
   "outputs": [
    {
     "data": {
      "text/plain": [
       "(array([0., 0., 1., 0., 1., 0., 1., 0., 1., 1.]),\n",
       " array([1., 1., 1., 1., 0., 1., 1., 0., 1., 1.]))"
      ]
     },
     "execution_count": 868,
     "metadata": {},
     "output_type": "execute_result"
    }
   ],
   "source": [
    "y, y_pred"
   ]
  },
  {
   "cell_type": "code",
   "execution_count": 869,
   "metadata": {},
   "outputs": [
    {
     "name": "stdout",
     "output_type": "stream",
     "text": [
      "Значение accuracy 0.5\n"
     ]
    }
   ],
   "source": [
    "print(f'Значение accuracy {accuracy_score(y,y_pred)}')"
   ]
  },
  {
   "cell_type": "markdown",
   "metadata": {},
   "source": [
    "Найдем матрицу ошибок (предсказания по столбцам, истинные значения по строкам)"
   ]
  },
  {
   "cell_type": "code",
   "execution_count": 870,
   "metadata": {
    "scrolled": true
   },
   "outputs": [
    {
     "name": "stdout",
     "output_type": "stream",
     "text": [
      "[[1 4]\n",
      " [1 4]]\n"
     ]
    }
   ],
   "source": [
    "print(confusion_matrix(y, y_pred))"
   ]
  },
  {
   "cell_type": "markdown",
   "metadata": {},
   "source": [
    "Из матрицы ошибок получам: TP = 4, FP = 4, TN = 1, FN = 1."
   ]
  },
  {
   "cell_type": "markdown",
   "metadata": {},
   "source": [
    "Вычислим precision -- доля истинных срабатываний от общего количества срабатываний (показывает насколько можно доверять алгоритму классификации в случае срабатывания)\n",
    "$$precision = \\frac{TP}{TP \\: + \\: FP} = \\frac{4}{4 \\: + \\: 4} = \\frac{1}{2} = 0.5.$$"
   ]
  },
  {
   "cell_type": "code",
   "execution_count": 871,
   "metadata": {},
   "outputs": [
    {
     "name": "stdout",
     "output_type": "stream",
     "text": [
      "Значение precision 0.5\n"
     ]
    }
   ],
   "source": [
    "print(f'Значение precision {precision_score(y,y_pred)}')"
   ]
  },
  {
   "cell_type": "markdown",
   "metadata": {},
   "source": [
    "Вычислим recall -- доля объектов, истинно относящихся к классу \"1\", которые алгоритм отнес к этому классу.\n",
    "$$recall = \\frac{TP}{TP \\: + \\: FN} = \\frac{4}{4 + 1} = \\frac{4}{5} = 0.8$$"
   ]
  },
  {
   "cell_type": "code",
   "execution_count": 872,
   "metadata": {},
   "outputs": [
    {
     "name": "stdout",
     "output_type": "stream",
     "text": [
      "Значение recall 0.8\n"
     ]
    }
   ],
   "source": [
    "print(f'Значение recall {recall_score(y,y_pred)}')"
   ]
  },
  {
   "cell_type": "markdown",
   "metadata": {},
   "source": [
    "Вычислим f1-меру -- среднее гармоническое между точностью и полнотой\n",
    "\n",
    "$$F_1 = \\frac{2 \\cdot precision \\cdot recall }{ presision + recall} = \\frac{2\\cdot 0.8 \\cdot 0.5}{0.5 + 0.8} = \\frac{4}{5} : \\frac{13}{10} = \\frac{8}{13} \\sim 0.615.$$"
   ]
  },
  {
   "cell_type": "code",
   "execution_count": 873,
   "metadata": {},
   "outputs": [
    {
     "name": "stdout",
     "output_type": "stream",
     "text": [
      "Значение f1-score 0.6153846153846154\n"
     ]
    }
   ],
   "source": [
    "print(f'Значение f1-score {f1_score(y,y_pred)}')"
   ]
  },
  {
   "cell_type": "markdown",
   "metadata": {},
   "source": [
    "Подсчет всех метрик сразу:"
   ]
  },
  {
   "cell_type": "code",
   "execution_count": 874,
   "metadata": {},
   "outputs": [
    {
     "name": "stdout",
     "output_type": "stream",
     "text": [
      "              precision    recall  f1-score   support\n",
      "\n",
      "         0.0       0.50      0.20      0.29         5\n",
      "         1.0       0.50      0.80      0.62         5\n",
      "\n",
      "    accuracy                           0.50        10\n",
      "   macro avg       0.50      0.50      0.45        10\n",
      "weighted avg       0.50      0.50      0.45        10\n",
      "\n"
     ]
    }
   ],
   "source": [
    "from sklearn.metrics import classification_report\n",
    "print(classification_report(y, y_pred))"
   ]
  },
  {
   "cell_type": "markdown",
   "metadata": {},
   "source": [
    "**Задача 6.** Могла ли модель переобучиться? Почему?"
   ]
  },
  {
   "cell_type": "markdown",
   "metadata": {},
   "source": [
    "Модель логистической регрессии имеет мало параметров, а значит и малые шансы на переобучение.  "
   ]
  },
  {
   "cell_type": "markdown",
   "metadata": {},
   "source": [
    "**Задача 7 *.** Создайте функции eval_model_l1 и eval_model_l2 с применением L1 и L2 регуляризаций соответственно."
   ]
  },
  {
   "cell_type": "markdown",
   "metadata": {},
   "source": [
    "**Реализуем $L_1$-регуляризацию.** Добавим штраф к функции потерь:\n",
    "$$logloss(A,y) = - \\sum^{l}_{i=1} (y_{i} \\text{ln}A_i + (1 - y_{i})\\text{ln} (1-A_i)) + \\lambda||w||_{1},$$\n",
    " \n",
    "где $A_i=\\frac{1}{1 + exp(-\\left \\langle w,x_{i} \\right \\rangle)}.$"
   ]
  },
  {
   "cell_type": "markdown",
   "metadata": {},
   "source": [
    "Тогда $k$-ый шаг градиентного спуска вычисляется по формуле:\n",
    "\n",
    "$$w^{k} = w^{k-1} - \\alpha(\\nabla(logloss(A,y) + \\lambda ||w||_{1})) = $$\n",
    "\n",
    "\n",
    "$$w^{k-1} - \\alpha(\\frac{1}{l}(A-y)X^{T} + \\lambda sign(w)).$$"
   ]
  },
  {
   "cell_type": "code",
   "execution_count": 875,
   "metadata": {},
   "outputs": [],
   "source": [
    "def eval_model_l1(X,y,iterations,alpha,lamb):\n",
    "    losses = []\n",
    "    np.random.seed(42)\n",
    "    W = np.random.randn(X.shape[0])\n",
    "    n = X.shape[1]\n",
    "    for i in range(1, iterations+1):\n",
    "        z = np.dot(W,X)\n",
    "        y_pred = sigmoid(z)\n",
    "        err = logloss(W,X,y) #считаем функцию потерь\n",
    "        losses.append(err)\n",
    "        W = W - alpha * (1/n * np.dot((y_pred - y),X.T) + lamb * np.sign(w))\n",
    "    \n",
    "    plt.plot(losses)\n",
    "    plt.title('Losses L_1')\n",
    "    plt.xlabel('iterations')\n",
    "    plt.ylabel('loss')\n",
    "    plt.show()\n",
    "    return W"
   ]
  },
  {
   "cell_type": "code",
   "execution_count": 876,
   "metadata": {
    "scrolled": true
   },
   "outputs": [
    {
     "data": {
      "image/png": "[encoded data removed]",
      "text/plain": [
       "<Figure size 432x288 with 1 Axes>"
      ]
     },
     "metadata": {
      "needs_background": "light"
     },
     "output_type": "display_data"
    },
    {
     "data": {
      "text/plain": [
       "array([ 0.48101422, -0.15505149, -0.00238886,  1.50706918])"
      ]
     },
     "execution_count": 876,
     "metadata": {},
     "output_type": "execute_result"
    }
   ],
   "source": [
    "W_l1 = eval_model_l1(X, y, 1500, 1e-6, 10)\n",
    "W_l1"
   ]
  },
  {
   "cell_type": "code",
   "execution_count": 877,
   "metadata": {},
   "outputs": [
    {
     "name": "stdout",
     "output_type": "stream",
     "text": [
      "              precision    recall  f1-score   support\n",
      "\n",
      "         0.0       0.50      0.20      0.29         5\n",
      "         1.0       0.50      0.80      0.62         5\n",
      "\n",
      "    accuracy                           0.50        10\n",
      "   macro avg       0.50      0.50      0.45        10\n",
      "weighted avg       0.50      0.50      0.45        10\n",
      "\n"
     ]
    }
   ],
   "source": [
    "y_pred_l1 = calc_pred(W_l1, X)\n",
    "print(classification_report(y, y_pred_l1))"
   ]
  },
  {
   "cell_type": "markdown",
   "metadata": {},
   "source": [
    "Меняя значение коэффициента регуляризации, можно снизить оптимальное число итераций при заданной скорости обучения.\n",
    "Изменение коэффициента регуляризации приводит к изменению показателей метрик. "
   ]
  },
  {
   "cell_type": "markdown",
   "metadata": {},
   "source": [
    "**Реализуем $L_2$-регуляризацию.** Добавим штраф к функции потерь:\n",
    "$$logloss(A,y) = - \\sum^{l}_{i=1} (y_{i} \\text{ln}A_i + (1 - y_{i})\\text{ln} (1-A_i)) + \\lambda||w||_{2}^{2},$$\n",
    " \n",
    "где $A_i=\\frac{1}{1 + exp(-\\left \\langle w,x_{i} \\right \\rangle)}.$"
   ]
  },
  {
   "cell_type": "markdown",
   "metadata": {},
   "source": [
    "Тогда $k$-ый шаг градиентного спуска вычисляется по формуле:\n",
    "\n",
    "$$w^{k} = w^{k-1} - \\alpha(\\nabla(logloss(A,y) + \\lambda ||w||_{2}^{2})) = $$\n",
    "\n",
    "\n",
    "$$w^{k-1} - \\alpha(\\frac{1}{l}(A-y)X^{T} + \\lambda w).$$"
   ]
  },
  {
   "cell_type": "code",
   "execution_count": 878,
   "metadata": {},
   "outputs": [],
   "source": [
    "def eval_model_l2(X,y,iterations,alpha,lamb):\n",
    "    losses = []\n",
    "    np.random.seed(42)\n",
    "    W = np.random.randn(X.shape[0])\n",
    "    n = X.shape[1]\n",
    "    for i in range(1, iterations+1):\n",
    "        z = np.dot(W,X)\n",
    "        y_pred = sigmoid(z)\n",
    "        err = logloss(W,X,y) #считаем функцию потерь\n",
    "        losses.append(err)\n",
    "        W = W - alpha * (1/n*np.dot((y_pred - y),X.T) + lamb * w)\n",
    "    \n",
    "    plt.plot(losses)\n",
    "    plt.title('Losses L_2')\n",
    "    plt.xlabel('iterations')\n",
    "    plt.ylabel('loss')\n",
    "    plt.show()\n",
    "    return W"
   ]
  },
  {
   "cell_type": "code",
   "execution_count": 879,
   "metadata": {
    "scrolled": true
   },
   "outputs": [
    {
     "data": {
      "image/png": "[encoded data removed]",
      "text/plain": [
       "<Figure size 432x288 with 1 Axes>"
      ]
     },
     "metadata": {
      "needs_background": "light"
     },
     "output_type": "display_data"
    },
    {
     "data": {
      "text/plain": [
       "array([ 0.34626743, -0.58918755, -0.00190768,  1.37255152])"
      ]
     },
     "execution_count": 879,
     "metadata": {},
     "output_type": "execute_result"
    }
   ],
   "source": [
    "W_l2 = eval_model_l2(X, y, 1500, 1e-6, 100)\n",
    "W_l2"
   ]
  },
  {
   "cell_type": "code",
   "execution_count": 880,
   "metadata": {},
   "outputs": [
    {
     "name": "stdout",
     "output_type": "stream",
     "text": [
      "              precision    recall  f1-score   support\n",
      "\n",
      "         0.0       0.60      0.60      0.60         5\n",
      "         1.0       0.60      0.60      0.60         5\n",
      "\n",
      "    accuracy                           0.60        10\n",
      "   macro avg       0.60      0.60      0.60        10\n",
      "weighted avg       0.60      0.60      0.60        10\n",
      "\n"
     ]
    }
   ],
   "source": [
    "y_pred_l2 = calc_pred(W_l2, X)\n",
    "print(classification_report(y, y_pred_l2))"
   ]
  },
  {
   "cell_type": "markdown",
   "metadata": {},
   "source": [
    "Меняя значение коэффициента регуляризации, можно снизить оптимальное число итераций при заданной скорости обучения.\n",
    "Изменение коэффициента регуляризации приводит к изменению показателей метрик. "
   ]
  }
 ],
 "metadata": {
  "kernelspec": {
   "display_name": "Python 3",
   "language": "python",
   "name": "python3"
  },
  "language_info": {
   "codemirror_mode": {
    "name": "ipython",
    "version": 3
   },
   "file_extension": ".py",
   "mimetype": "text/x-python",
   "name": "python",
   "nbconvert_exporter": "python",
   "pygments_lexer": "ipython3",
   "version": "3.8.5"
  }
 },
 "nbformat": 4,
 "nbformat_minor": 4
}
