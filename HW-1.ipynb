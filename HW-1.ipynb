{
 "cells": [
  {
   "cell_type": "code",
   "execution_count": 828,
   "metadata": {},
   "outputs": [],
   "source": [
    "import numpy as np\n",
    "import matplotlib.pyplot as plt"
   ]
  },
  {
   "cell_type": "markdown",
   "metadata": {},
   "source": [
    "# Домашнее задание №1"
   ]
  },
  {
   "cell_type": "markdown",
   "metadata": {},
   "source": [
    "**Задача 1.** Подберите скорость обучения (alpha) и количество итераций."
   ]
  },
  {
   "cell_type": "markdown",
   "metadata": {},
   "source": [
    "**Исходные данные**"
   ]
  },
  {
   "cell_type": "code",
   "execution_count": 829,
   "metadata": {},
   "outputs": [
    {
     "name": "stdout",
     "output_type": "stream",
     "text": [
      "Матрица признаков X\n"
     ]
    },
    {
     "data": {
      "text/plain": [
       "array([[ 1,  1],\n",
       "       [ 1,  1],\n",
       "       [ 1,  2],\n",
       "       [ 1,  1],\n",
       "       [ 1,  3],\n",
       "       [ 1,  0],\n",
       "       [ 1,  5],\n",
       "       [ 1, 10],\n",
       "       [ 1,  1],\n",
       "       [ 1,  2]])"
      ]
     },
     "execution_count": 829,
     "metadata": {},
     "output_type": "execute_result"
    }
   ],
   "source": [
    "X = np.array([[1, 1, 1, 1, 1, 1, 1, 1, 1, 1],\n",
    "              [1, 1, 2, 1, 3, 0, 5, 10, 1, 2]]).T\n",
    "print('Матрица признаков X')\n",
    "X"
   ]
  },
  {
   "cell_type": "code",
   "execution_count": 830,
   "metadata": {},
   "outputs": [
    {
     "name": "stdout",
     "output_type": "stream",
     "text": [
      "Вектор ответа y\n",
      "[[45]\n",
      " [55]\n",
      " [50]\n",
      " [59]\n",
      " [65]\n",
      " [35]\n",
      " [75]\n",
      " [80]\n",
      " [50]\n",
      " [60]]\n"
     ]
    }
   ],
   "source": [
    "print('Вектор ответа y')\n",
    "y = np.array([[45, 55, 50, 59, 65, 35, 75, 80, 50, 60]]).T\n",
    "print(y)"
   ]
  },
  {
   "cell_type": "markdown",
   "metadata": {},
   "source": [
    "**Нормальное уравнение линейной регрессии и его график**"
   ]
  },
  {
   "cell_type": "markdown",
   "metadata": {},
   "source": [
    "Линейная регрессия $$a(x) = w_{0}+\\sum^{d}_{i=1}w_{i}x^{i},$$ где веса вычисляются по формуле:\n",
    "$$w = (X^{T}X)^{-1}X^{T}y.$$"
   ]
  },
  {
   "cell_type": "code",
   "execution_count": 831,
   "metadata": {},
   "outputs": [
    {
     "name": "stdout",
     "output_type": "stream",
     "text": [
      "Нормальное уравнение линейной регрессии: y = 3.91x + 47.23\n"
     ]
    }
   ],
   "source": [
    "W_norm = np.linalg.inv(np.dot(X.T, X)) @ X.T @ y\n",
    "W_norm\n",
    "print(f'Нормальное уравнение линейной регрессии: y = {round(W_norm[1][0],2)}x + {round(W_norm[0][0],2)}')"
   ]
  },
  {
   "cell_type": "code",
   "execution_count": 832,
   "metadata": {},
   "outputs": [
    {
     "data": {
      "image/png": "[encoded data removed]",
      "text/plain": [
       "<Figure size 432x288 with 1 Axes>"
      ]
     },
     "metadata": {
      "needs_background": "light"
     },
     "output_type": "display_data"
    }
   ],
   "source": [
    "w_0 = W_norm[0][0]\n",
    "w_1 = W_norm[1][0]\n",
    "plt.scatter(X[:,1], y[:,0])\n",
    "# y = w_0 + w_1 * x \n",
    "plt.plot(X[:,1], w_0 + w_1*X[:,1], label=f\"$y = {round(w_1,2)}x + {round(w_0,2)}$\")\n",
    "plt.legend(loc=\"best\")\n",
    "plt.show()"
   ]
  },
  {
   "cell_type": "markdown",
   "metadata": {},
   "source": [
    "**Функция ошибки MSE**"
   ]
  },
  {
   "cell_type": "markdown",
   "metadata": {},
   "source": [
    "Функция ошибки (МSE)\n",
    "\n",
    "в матричной форме:\n",
    "$$Q(w, X) = \\frac{1}{l}||Xw-y||^{2}$$ \n",
    "в векторной форме:\n",
    "$$Q(w,x) = \\frac{1}{l}\\sum^{l}_{i=1}(\\left \\langle w,x_{i} \\right \\rangle-y_{i})^{2}.$$"
   ]
  },
  {
   "cell_type": "code",
   "execution_count": 833,
   "metadata": {},
   "outputs": [
    {
     "name": "stdout",
     "output_type": "stream",
     "text": [
      "Значение mse для нормального уравнения линейной регрессии: 45.937500000000014\n"
     ]
    }
   ],
   "source": [
    "def calc_mse(X, W, y):\n",
    "    err = (np.linalg.norm(X.dot(W) - y, ord=2)) ** 2 / y.shape[0]\n",
    "    return err\n",
    "\n",
    "print(f'Значение mse для нормального уравнения линейной регрессии: {calc_mse(X, W_norm, y)}')"
   ]
  },
  {
   "cell_type": "markdown",
   "metadata": {},
   "source": [
    "Будем подбирать параметры модели линейной регрессии так, чтобы значение MSE было близко к полученному значению (при наименьшем количестве итераций было равно 46). "
   ]
  },
  {
   "cell_type": "markdown",
   "metadata": {},
   "source": [
    "**Обучение модели линейной регрессии (минимизация функционала ошибки градиентным спуском)**"
   ]
  },
  {
   "cell_type": "markdown",
   "metadata": {},
   "source": [
    "Определим оптимальное количество итерация для фиксированного шага обучения $\\alpha$."
   ]
  },
  {
   "cell_type": "markdown",
   "metadata": {},
   "source": [
    "Определяем стартовую точку"
   ]
  },
  {
   "cell_type": "code",
   "execution_count": 834,
   "metadata": {},
   "outputs": [
    {
     "data": {
      "text/plain": [
       "array([[1. ],\n",
       "       [0.5]])"
      ]
     },
     "execution_count": 834,
     "metadata": {},
     "output_type": "execute_result"
    }
   ],
   "source": [
    "W = np.array([[1, 0.5]]).T\n",
    "W"
   ]
  },
  {
   "cell_type": "markdown",
   "metadata": {},
   "source": [
    "$k$-ый шаг градиентного спуска задается формулой"
   ]
  },
  {
   "cell_type": "markdown",
   "metadata": {},
   "source": [
    "$w^{k} = w^{k-1} - \\alpha \\nabla Q(w^{k-1}, X)$, где $\\nabla_{w}Q(w,X) = \\frac{2}{l}X^{T}(Xw-y).$\n",
    "\n",
    "Таким образом, \n",
    "$$w^{k} = w^{k-1} - \\alpha \\frac{2}{l}X^{T}(Xw^{k-1}-y).$$"
   ]
  },
  {
   "cell_type": "code",
   "execution_count": 835,
   "metadata": {},
   "outputs": [],
   "source": [
    "# список векторов весов после каждой итерации\n",
    "w_list = [W.T[0].copy()]\n",
    "\n",
    "# список значений ошибок после каждой итерации\n",
    "errors = []\n",
    "\n",
    "# шаг градиентного спуска\n",
    "alpha = 1e-2 \n",
    "#alpha = 1e-1 # шаг слишком большой, перепрыгиваем через минимум функции\n",
    "#alpha = 1e-3 # шаг слишком мал. Нужно 4300 итераций для MSE = 46\n",
    "#анализ этих alpha будет дан ниже\n",
    "\n",
    "# максимальное число итераций\n",
    "max_iter = 1e4\n",
    "\n",
    "# критерий сходимости (разница весов, при которой алгоритм останавливается)\n",
    "min_weight_dist = 1e-8\n",
    "\n",
    "# зададим начальную разницу весов большим числом\n",
    "weight_dist = np.inf\n",
    "\n",
    "# счетчик итераций\n",
    "iter_num = 0\n",
    "\n",
    "# ход градиентного спуска\n",
    "while weight_dist > min_weight_dist and iter_num < max_iter:\n",
    "    new_W = W - alpha * (2 / y.shape[0]) * np.dot(X.T, (np.dot(X, W) - y))\n",
    "    weight_dist = np.linalg.norm(new_W - W, ord=2)\n",
    "    \n",
    "    w_list.append(new_W.T[0].copy())\n",
    "    errors.append(calc_mse(X, new_W, y))\n",
    "    \n",
    "    iter_num += 1\n",
    "    W = new_W\n",
    "\n",
    "w_list = np.array(w_list)"
   ]
  },
  {
   "cell_type": "markdown",
   "metadata": {},
   "source": [
    "Визуализируем изменения весов"
   ]
  },
  {
   "cell_type": "code",
   "execution_count": 836,
   "metadata": {},
   "outputs": [
    {
     "data": {
      "image/png": "[encoded data removed]",
      "text/plain": [
       "<Figure size 936x432 with 1 Axes>"
      ]
     },
     "metadata": {
      "needs_background": "light"
     },
     "output_type": "display_data"
    }
   ],
   "source": [
    "plt.figure(figsize=(13, 6))\n",
    "plt.title('Gradient descent')\n",
    "plt.xlabel(r'$w_0$')\n",
    "plt.ylabel(r'$w_1$')\n",
    "\n",
    "plt.scatter(w_list[:, 0], w_list[:, 1])\n",
    "plt.scatter(W_norm[0], W_norm[1], c='r')\n",
    "plt.plot(w_list[:, 0], w_list[:, 1])\n",
    "\n",
    "plt.show()"
   ]
  },
  {
   "cell_type": "markdown",
   "metadata": {},
   "source": [
    "После каждой итерации значения искомых весов приближаются к истинным."
   ]
  },
  {
   "cell_type": "markdown",
   "metadata": {},
   "source": [
    "Визуализируем изменение функционала ошибки"
   ]
  },
  {
   "cell_type": "code",
   "execution_count": 837,
   "metadata": {},
   "outputs": [
    {
     "data": {
      "image/png": "[encoded data removed]",
      "text/plain": [
       "<Figure size 432x288 with 1 Axes>"
      ]
     },
     "metadata": {
      "needs_background": "light"
     },
     "output_type": "display_data"
    }
   ],
   "source": [
    "plt.plot(range(len(errors)), errors)\n",
    "plt.title('MSE')\n",
    "plt.xlabel('Iteration number')\n",
    "plt.ylabel('MSE')\n",
    "\n",
    "plt.show()"
   ]
  },
  {
   "cell_type": "markdown",
   "metadata": {},
   "source": [
    "Изменение монотонно и начинается с высокой точки, после определенного количества итераций выходя на асимптоту."
   ]
  },
  {
   "cell_type": "code",
   "execution_count": 838,
   "metadata": {},
   "outputs": [
    {
     "name": "stdout",
     "output_type": "stream",
     "text": [
      "0 [1.  0.5] 2085.183364\n",
      "100 [31.72648327  6.77395294] 172.52045652414077\n",
      "200 [41.78014899  4.91746666] 61.58718002873326\n",
      "300 [45.3151501   4.26470166] 47.872298267687924\n",
      "400 [46.55810299  4.0351809 ] 46.176702611796244\n",
      "500 [46.99514157  3.95447839] 45.96707305185028\n",
      "600 [47.14881009  3.92610232] 45.94115616992714\n",
      "700 [47.20284196  3.91612492] 45.937952018905754\n",
      "800 [47.22184028  3.91261674] 45.93755588391548\n",
      "900 [47.22852033  3.91138321] 45.93750690902961\n",
      "1000 [47.23086913  3.91094949] 45.93750085417584\n",
      "1100 [47.231695    3.91079699] 45.937500105603306\n",
      "1200 [47.23198538  3.91074336] 45.937500013055924\n",
      "1300 [47.23208749  3.91072451] 45.93750000161412\n",
      "1400 [47.23212339  3.91071788] 45.93750000019955\n"
     ]
    }
   ],
   "source": [
    "for i in range(1500):\n",
    "    if i % 100 == 0:\n",
    "        print(i, w_list[i], errors[i])"
   ]
  },
  {
   "cell_type": "markdown",
   "metadata": {},
   "source": [
    "Минимальное количество итераций, за которое MSE будет близко к MSE нормального уравнения линейной регрессии, равно 900."
   ]
  },
  {
   "cell_type": "code",
   "execution_count": 840,
   "metadata": {},
   "outputs": [
    {
     "name": "stdout",
     "output_type": "stream",
     "text": [
      "Оптимальное количество итераций для alpha = 0.01: 900\n",
      "значение MSE: 45.93750690902961\n",
      "уравнение линейной регрессии: y = 3.9113832123025083x + 47.22852033411592\n"
     ]
    }
   ],
   "source": [
    "iter_opt = 900\n",
    "print(f'Оптимальное количество итераций для alpha = {alpha}: {iter_opt}')\n",
    "print(f'значение MSE: {errors[iter_opt]}')\n",
    "print(f'уравнение линейной регрессии: y = {w_list[iter_opt][1]}x + {w_list[iter_opt][0]}')"
   ]
  },
  {
   "cell_type": "markdown",
   "metadata": {},
   "source": [
    "Визуализируем нормальное уравнение и полученное уравнение"
   ]
  },
  {
   "cell_type": "code",
   "execution_count": 841,
   "metadata": {},
   "outputs": [
    {
     "data": {
      "image/png": "[encoded data removed]",
      "text/plain": [
       "<Figure size 432x288 with 1 Axes>"
      ]
     },
     "metadata": {
      "needs_background": "light"
     },
     "output_type": "display_data"
    }
   ],
   "source": [
    "plt.scatter(X[:,1], y[:,0])\n",
    "\n",
    "plt.plot(X[:,1], W_norm[0][0] + W_norm[1][0]*X[:,1], label=f\"$y = {round(W_norm[1][0],2)}x + {round(W_norm[0][0],2)}$\")\n",
    "plt.plot(X[:,1], w_list[iter_opt][0] + w_list[iter_opt][1]*X[:,1], label=f\"$y = {round(w_list[iter_opt][1],2)}x + {round(w_list[iter_opt][0],2)}$\")\n",
    "\n",
    "plt.legend(loc=\"best\")\n",
    "plt.show()"
   ]
  },
  {
   "cell_type": "markdown",
   "metadata": {},
   "source": [
    "Таким образом, оптимальные значения:\n",
    "$\\alpha = 0.01$, количество итераций 900."
   ]
  },
  {
   "cell_type": "markdown",
   "metadata": {},
   "source": [
    "**Анализ разничных значений шага обучения $\\alpha$ для градиентного спуска**"
   ]
  },
  {
   "cell_type": "markdown",
   "metadata": {},
   "source": [
    "Составим функцию, которая будет возвращать список ошибок MSE при каждой итерации градиентного спуска при различных значениях шага обучеия $\\alpha$."
   ]
  },
  {
   "cell_type": "code",
   "execution_count": 842,
   "metadata": {},
   "outputs": [],
   "source": [
    "def gradient(X, W, y, alpha):\n",
    "    # список векторов весов после каждой итерации\n",
    "    w_list = [W.T[0].copy()]\n",
    "\n",
    "    # список значений ошибок после каждой итерации\n",
    "    errors = []\n",
    "\n",
    "    # максимальное число итераций\n",
    "    max_iter = 1e4\n",
    "\n",
    "    # критерий сходимости (разница весов, при которой алгоритм останавливается)\n",
    "    min_weight_dist = 1e-8\n",
    "\n",
    "    # зададим начальную разницу весов большим числом\n",
    "    weight_dist = np.inf\n",
    "\n",
    "    # счетчик итераций\n",
    "    iter_num = 0\n",
    "\n",
    "    # ход градиентного спуска\n",
    "    while weight_dist > min_weight_dist and iter_num < max_iter:\n",
    "        new_W = W - alpha * (2 / y.shape[0]) * np.dot(X.T, (np.dot(X, W) - y))\n",
    "        weight_dist = np.linalg.norm(new_W - W, ord=2)\n",
    "    \n",
    "        w_list.append(new_W.T[0].copy())\n",
    "        errors.append(calc_mse(X, new_W, y))\n",
    "    \n",
    "        iter_num += 1\n",
    "        W = new_W\n",
    "\n",
    "    w_list = np.array(w_list)\n",
    "    return errors"
   ]
  },
  {
   "cell_type": "markdown",
   "metadata": {},
   "source": [
    "Визуализируем изменение функционала ошибки при разных значениях $\\alpha$."
   ]
  },
  {
   "cell_type": "markdown",
   "metadata": {},
   "source": [
    "**1 случай ($\\alpha = 0.1$)**"
   ]
  },
  {
   "cell_type": "code",
   "execution_count": 854,
   "metadata": {},
   "outputs": [
    {
     "name": "stderr",
     "output_type": "stream",
     "text": [
      "<ipython-input-833-6cebb27f5e97>:2: RuntimeWarning: overflow encountered in double_scalars\n",
      "  err = (np.linalg.norm(X.dot(W) - y, ord=2)) ** 2 / y.shape[0]\n"
     ]
    },
    {
     "data": {
      "image/png": "[encoded data removed]",
      "text/plain": [
       "<Figure size 432x288 with 1 Axes>"
      ]
     },
     "metadata": {
      "needs_background": "light"
     },
     "output_type": "display_data"
    },
    {
     "name": "stdout",
     "output_type": "stream",
     "text": [
      "Минимальное значение MSE: 9346.122400000004\n"
     ]
    }
   ],
   "source": [
    "alpha = 1e-1\n",
    "\n",
    "W = np.array([[1, 0.5]]).T\n",
    "\n",
    "plt.plot(range(len(gradient(X, W, y, alpha))), gradient(X, W, y, alpha))\n",
    "plt.title(f'MSE (alpha = {alpha})')\n",
    "plt.xlabel('Iteration number')\n",
    "plt.ylabel('MSE')\n",
    "\n",
    "plt.show()\n",
    "\n",
    "print(f'Минимальное значение MSE: {min(gradient(X, W, y, alpha))}')"
   ]
  },
  {
   "cell_type": "markdown",
   "metadata": {},
   "source": [
    "Ошибка такой модели очень велика."
   ]
  },
  {
   "cell_type": "markdown",
   "metadata": {},
   "source": [
    "**2 случай ($\\alpha = 0.01$)**"
   ]
  },
  {
   "cell_type": "code",
   "execution_count": 855,
   "metadata": {},
   "outputs": [
    {
     "data": {
      "image/png": "[encoded data removed]",
      "text/plain": [
       "<Figure size 432x288 with 1 Axes>"
      ]
     },
     "metadata": {
      "needs_background": "light"
     },
     "output_type": "display_data"
    },
    {
     "name": "stdout",
     "output_type": "stream",
     "text": [
      "Минимальное значение MSE: 45.93750000000046\n"
     ]
    }
   ],
   "source": [
    "W = np.array([[1, 0.5]]).T\n",
    "alpha = 1e-2\n",
    "plt.plot(range(len(gradient(X, W, y, alpha))), gradient(X, W, y, alpha))\n",
    "plt.title(f'MSE (alpha = {alpha})')\n",
    "plt.xlabel('Iteration number')\n",
    "plt.ylabel('MSE')\n",
    "\n",
    "plt.show()\n",
    "\n",
    "print(f'Минимальное значение MSE: {min(gradient(X, W, y, alpha))}')"
   ]
  },
  {
   "cell_type": "code",
   "execution_count": 856,
   "metadata": {},
   "outputs": [
    {
     "name": "stdout",
     "output_type": "stream",
     "text": [
      "250 51.440133352265455\n",
      "300 47.872298267687924\n",
      "350 46.61780052104184\n",
      "400 46.176702611796244\n",
      "450 46.02160678475229\n",
      "500 45.96707305185028\n",
      "550 45.94789827403123\n",
      "600 45.94115616992714\n",
      "650 45.93878555743923\n",
      "700 45.937952018905754\n",
      "750 45.937658935793046\n",
      "800 45.93755588391548\n",
      "850 45.937519649519786\n",
      "900 45.93750690902961\n",
      "950 45.93750242930568\n"
     ]
    }
   ],
   "source": [
    "for i in range(250,1000,50):\n",
    "    print(i, gradient(X, W, y, alpha)[i])"
   ]
  },
  {
   "cell_type": "markdown",
   "metadata": {},
   "source": [
    "При количестве 900 итерациях MSE = 45.93750690902961"
   ]
  },
  {
   "cell_type": "markdown",
   "metadata": {},
   "source": [
    "**3 случай ($\\alpha = 0.001$)**"
   ]
  },
  {
   "cell_type": "code",
   "execution_count": 857,
   "metadata": {},
   "outputs": [
    {
     "data": {
      "image/png": "[encoded data removed]",
      "text/plain": [
       "<Figure size 432x288 with 1 Axes>"
      ]
     },
     "metadata": {
      "needs_background": "light"
     },
     "output_type": "display_data"
    },
    {
     "data": {
      "text/plain": [
       "45.93750096207484"
      ]
     },
     "execution_count": 857,
     "metadata": {},
     "output_type": "execute_result"
    }
   ],
   "source": [
    "W = np.array([[1, 0.5]]).T\n",
    "alpha = 1e-3\n",
    "plt.plot(range(len(gradient(X, W, y, alpha))), gradient(X, W, y, alpha))\n",
    "plt.title(f'MSE (alpha = {alpha})')\n",
    "plt.xlabel('Iteration number')\n",
    "plt.ylabel('MSE')\n",
    "\n",
    "plt.show()\n",
    "\n",
    "min(gradient(X, W, y, alpha))"
   ]
  },
  {
   "cell_type": "markdown",
   "metadata": {},
   "source": [
    "Минимальная ошибка MSE такая же, как для нормального уравнения линейной регрессии. Но количество итераций больше, чем для шага обучения 0.01."
   ]
  },
  {
   "cell_type": "markdown",
   "metadata": {},
   "source": [
    "**Использование шага переменного размера $\\alpha$**"
   ]
  },
  {
   "cell_type": "markdown",
   "metadata": {},
   "source": [
    "Подберем значение шага обучение $\\alpha$, чтобы оценка MSE = 45.9375 достигалась за меньшее число итераций."
   ]
  },
  {
   "cell_type": "code",
   "execution_count": 859,
   "metadata": {},
   "outputs": [
    {
     "data": {
      "text/plain": [
       "(array([[1. ],\n",
       "        [0.5]]),\n",
       " 0.01)"
      ]
     },
     "execution_count": 859,
     "metadata": {},
     "output_type": "execute_result"
    }
   ],
   "source": [
    "W = np.array([[1, 0.5]]).T\n",
    "alpha = 1e-2 #начальное значение шага\n",
    "W, alpha"
   ]
  },
  {
   "cell_type": "code",
   "execution_count": 860,
   "metadata": {},
   "outputs": [],
   "source": [
    "# список векторов весов после каждой итерации\n",
    "w_list = [W.T[0].copy()]\n",
    "\n",
    "# список значений ошибок после каждой итерации\n",
    "errors = []\n",
    "\n",
    "# список шагов градиентного спуска после каждой интегации \n",
    "alpha_list = []\n",
    "\n",
    "# максимальное число итераций\n",
    "max_iter = 1e4\n",
    "\n",
    "# критерий сходимости (разница весов, при которой алгоритм останавливается)\n",
    "min_weight_dist = 1e-8\n",
    "\n",
    "# зададим начальную разницу весов большим числом\n",
    "weight_dist = np.inf\n",
    "\n",
    "# счетчик итераций\n",
    "iter_num = 0\n",
    "\n",
    "# ход градиентного спуска\n",
    "while weight_dist > min_weight_dist and iter_num < max_iter:\n",
    "    new_W = W - alpha * (2 / y.shape[0]) * np.dot(X.T, (np.dot(X, W) - y))\n",
    "    weight_dist = np.linalg.norm(new_W - W, ord=2)\n",
    "    \n",
    "    w_list.append(new_W.T[0].copy())\n",
    "    errors.append(calc_mse(X, new_W, y))\n",
    "    alpha_list.append(alpha)\n",
    "\n",
    "    iter_num += 1\n",
    "    W = new_W\n",
    "    alpha = alpha_list[0]/(iter_num + 1)"
   ]
  },
  {
   "cell_type": "code",
   "execution_count": 861,
   "metadata": {},
   "outputs": [
    {
     "data": {
      "image/png": "[encoded data removed]",
      "text/plain": [
       "<Figure size 432x288 with 1 Axes>"
      ]
     },
     "metadata": {
      "needs_background": "light"
     },
     "output_type": "display_data"
    }
   ],
   "source": [
    "plt.plot(range(len(errors)), errors)\n",
    "plt.title('MSE')\n",
    "plt.xlabel('Iteration number')\n",
    "plt.ylabel('MSE')\n",
    "\n",
    "plt.show()"
   ]
  },
  {
   "cell_type": "markdown",
   "metadata": {},
   "source": [
    "Значение MSE велико, убывает монотонно, но медленнее, чем с фиксированным $\\alpha$."
   ]
  },
  {
   "cell_type": "code",
   "execution_count": 863,
   "metadata": {},
   "outputs": [
    {
     "data": {
      "image/png": "[encoded data removed]",
      "text/plain": [
       "<Figure size 432x288 with 1 Axes>"
      ]
     },
     "metadata": {
      "needs_background": "light"
     },
     "output_type": "display_data"
    }
   ],
   "source": [
    "plt.plot(range(len(alpha_list)), alpha_list)\n",
    "plt.title('alpha')\n",
    "plt.xlabel('Iteration number')\n",
    "plt.ylabel('alpha')\n",
    "\n",
    "plt.show()"
   ]
  },
  {
   "cell_type": "markdown",
   "metadata": {},
   "source": [
    "Изменение монотонно и начинается с высокой точки, после определенного количества итераций выходя на асимптоту."
   ]
  },
  {
   "cell_type": "code",
   "execution_count": 864,
   "metadata": {},
   "outputs": [
    {
     "name": "stdout",
     "output_type": "stream",
     "text": [
      "0 [1.  0.5] 2085.183364 0.01\n",
      "100 [5.04418318 9.41289662] 1060.0590773398794 9.900990099009902e-05\n",
      "200 [5.42005484 9.77416917] 1021.0420128554435 4.9751243781094526e-05\n",
      "300 [5.63234016 9.94848916] 1002.4924965079699 3.322259136212625e-05\n",
      "400 [ 5.77991027 10.05773204] 990.8014786627252 2.493765586034913e-05\n",
      "500 [ 5.89275374 10.13493438] 982.4390497068964 1.9960079840319362e-05\n",
      "600 [ 5.98395882 10.19345521] 976.007627866468 1.663893510815308e-05\n",
      "700 [ 6.06040412 10.23991035] 970.8230054112016 1.4265335235378031e-05\n",
      "800 [ 6.12614783 10.27801558] 966.5033122618055 1.2484394506866417e-05\n",
      "900 [ 6.18378258 10.3100466 ] 962.8154009977046 1.1098779134295228e-05\n",
      "1000 [ 6.23506427 10.33748853] 959.6072743617558 9.99000999000999e-06\n",
      "1100 [ 6.28123657 10.3613589 ] 956.7747453846736 9.082652134423252e-06\n",
      "1200 [ 6.32321212 10.38238226] 954.2435139391239 8.32639467110741e-06\n",
      "1300 [ 6.36168018 10.40109098] 951.9588654691013 7.686395080707149e-06\n",
      "1400 [ 6.3971739  10.41788653] 949.8794244688521 7.137758743754461e-06\n",
      "1500 [ 6.43011403 10.43307832] 947.9731962339608 6.662225183211192e-06\n",
      "1600 [ 6.46083837 10.44690937] 946.2149645263391 6.246096189881324e-06\n",
      "1700 [ 6.48962218 10.45957362] 944.5845263018497 5.878894767783657e-06\n",
      "1800 [ 6.5166927  10.47122808] 943.0654615772246 5.55247084952804e-06\n",
      "1900 [ 6.54223963 10.48200144] 941.6442558999327 5.260389268805892e-06\n",
      "2000 [ 6.566423   10.49200035] 940.3096613489145 4.9975012493753125e-06\n",
      "2100 [ 6.58937901 10.50131407] 939.0522226840861 4.759638267491671e-06\n",
      "2200 [ 6.61122451 10.51001798] 937.8639202155707 4.543389368468878e-06\n",
      "2300 [ 6.63206054 10.51817625] 936.737896696317 4.34593654932638e-06\n",
      "2400 [ 6.65197499 10.5258439 ] 935.6682457093042 4.164931278633902e-06\n",
      "2500 [ 6.67104481 10.53306843] 934.6498457388877 3.998400639744102e-06\n",
      "2600 [ 6.68933778 10.53989109] 933.6782286447497 3.844675124951942e-06\n",
      "2700 [ 6.70691384 10.54634792] 932.7494743659412 3.702332469455757e-06\n",
      "2800 [ 6.7238263  10.55247054] 931.8601258522689 3.570153516601214e-06\n",
      "2900 [ 6.74012278 10.55828686] 931.0071197577624 3.4470872113064462e-06\n",
      "3000 [ 6.75584597 10.56382161] 930.1877295356369 3.332222592469177e-06\n",
      "3100 [ 6.77103427 10.56909678] 929.3995183780569 3.2247662044501775e-06\n",
      "3200 [ 6.78572241 10.57413203] 928.6403000361279 3.1240237425804437e-06\n",
      "3300 [ 6.79994183 10.57894498] 927.908105996383 3.029385034837928e-06\n",
      "3400 [ 6.81372112 10.58355147] 927.2011578216707 2.9403116730373422e-06\n",
      "3500 [ 6.82708634 10.5879658 ] 926.5178437162724 2.8563267637817765e-06\n",
      "3600 [ 6.84006132 10.59220093] 925.856698568078 2.7770063871146906e-06\n",
      "3700 [ 6.85266791 10.59626858] 925.2163868698275 2.701972439881113e-06\n",
      "3800 [ 6.86492616 10.60017946] 924.5956880375879 2.6308866087871615e-06\n",
      "3900 [ 6.87685455 10.60394332] 923.993483735813 2.563445270443476e-06\n",
      "4000 [ 6.88847014 10.60756908] 923.4087468903306 2.4993751562109474e-06\n",
      "4100 [ 6.89978869 10.61106492] 922.8405321279095 2.43842965130456e-06\n",
      "4200 [ 6.91082483 10.61443834] 922.2879674268852 2.3803856224708405e-06\n",
      "4300 [ 6.92159211 10.61769628] 921.7502468002425 2.3250406882120437e-06\n",
      "4400 [ 6.93210315 10.6208451 ] 921.2266238624173 2.2722108611679166e-06\n",
      "4500 [ 6.9423697 10.6238907] 920.7164061554076 2.2217285047767164e-06\n",
      "4600 [ 6.95240274 10.62683853] 920.2189501296649 2.1734405564007825e-06\n",
      "4700 [ 6.9622125  10.62969365] 919.7336566915916 2.1272069772388853e-06\n",
      "4800 [ 6.97180859 10.63246076] 919.2599672429527 2.082899395959175e-06\n",
      "4900 [ 6.98119999 10.63514423] 918.7973601487341 2.040399918384003e-06\n",
      "5000 [ 6.99039514 10.63774813] 918.3453475792624 1.999600079984003e-06\n",
      "5100 [ 6.99940196 10.64027626] 917.9034726802292 1.9603999215840033e-06\n",
      "5200 [ 7.00822793 10.64273217] 917.471307030795 1.9227071716977503e-06\n",
      "5300 [ 7.01688005 10.64511918] 917.0484483554397 1.8864365214110546e-06\n",
      "5400 [ 7.02536497 10.6474404 ] 916.6345184599206 1.8515089798185521e-06\n",
      "5500 [ 7.03368894 10.64969873] 916.2291613656214 1.8178512997636794e-06\n",
      "5600 [ 7.04185787 10.65189693] 915.8320416199527 1.7853954650955187e-06\n",
      "5700 [ 7.04987736 10.65403756] 915.4428427633336 1.7540782318891423e-06\n",
      "5800 [ 7.05775272 10.65612305] 915.0612659357348 1.7238407171177383e-06\n",
      "5900 [ 7.06548895 10.65815567] 914.6870286078874 1.6946280291476022e-06\n",
      "6000 [ 7.07309084 10.66013757] 914.3198634240714 1.6663889351774704e-06\n",
      "6100 [ 7.08056291 10.6620708 ] 913.95951714496 1.63907556138338e-06\n",
      "6200 [ 7.08790946 10.66395725] 913.6057496803727 1.6126431220770844e-06\n",
      "6300 [ 7.09513459 10.66579876] 913.2583332029469 1.5870496746548168e-06\n",
      "6400 [ 7.1022422  10.66759702] 912.9170513347838 1.5622558975160132e-06\n",
      "6500 [ 7.10923599 10.66935368] 912.5816984000064 1.5382248884786956e-06\n",
      "6600 [ 7.11611951 10.67107026] 912.2520787369474 1.5149219815179519e-06\n",
      "6700 [ 7.12289615 10.67274824] 911.9280060643787 1.4923145799134458e-06\n",
      "6800 [ 7.12956912 10.67438901] 911.609302896785 1.4703720041170416e-06\n",
      "6900 [ 7.13614152 10.67599387] 911.2958000042223 1.4490653528474134e-06\n",
      "7000 [ 7.14261628 10.6775641 ] 910.9873359127539 1.42836737608913e-06\n",
      "7100 [ 7.14899624 10.67910087] 910.6837564418844 1.408252358822701e-06\n",
      "7200 [ 7.1552841  10.68060534] 910.3849142757592 1.3886960144424386e-06\n",
      "7300 [ 7.16148244 10.68207858] 910.0906685652317 1.3696753869332968e-06\n",
      "7400 [ 7.16759375 10.68352163] 909.800884558178 1.3511687609782462e-06\n",
      "7500 [ 7.1736204  10.68493548] 909.5154332557037 1.3331555792560993e-06\n",
      "7600 [ 7.17956468 10.68632106] 909.2341910920944 1.3156163662675964e-06\n",
      "7700 [ 7.18542878 10.68767929] 908.957039636592 1.298532658096351e-06\n",
      "7800 [ 7.19121482 10.68901101] 908.6838653152269 1.281886937572106e-06\n",
      "7900 [ 7.19692481 10.69031705] 908.4145591511324 1.2656625743576762e-06\n",
      "8000 [ 7.20256071 10.69159821] 908.1490165218754 1.249843769528809e-06\n",
      "8100 [ 7.20812439 10.69285523] 907.8871369325116 1.2344155042587335e-06\n",
      "8200 [ 7.21361765 10.69408884] 907.6288238031302 1.219363492257042e-06\n",
      "8300 [ 7.21904224 10.69529972] 907.3739842698357 1.2046741356463077e-06\n",
      "8400 [ 7.22439983 10.69648856] 907.1225289981314 1.1903344839900012e-06\n",
      "8500 [ 7.22969203 10.69765597] 906.8743720078113 1.1763321962122103e-06\n",
      "8600 [ 7.2349204  10.69880259] 906.6294305085132 1.162655505173817e-06\n",
      "8700 [ 7.24008644 10.69992898] 906.3876247451742 1.1492931846914148e-06\n",
      "8800 [ 7.24519161 10.70103573] 906.1488778526794 1.1362345188046814e-06\n",
      "8900 [ 7.2502373  10.70212337] 905.9131157190553 1.1234692731153802e-06\n",
      "9000 [ 7.25522487 10.70319242] 905.6802668566264 1.1109876680368849e-06\n",
      "9100 [ 7.26015563 10.70424339] 905.4502622805705 1.098780353807274e-06\n",
      "9200 [ 7.26503084 10.70527676] 905.2230353943887 1.0868383871318336e-06\n",
      "9300 [ 7.26985172 10.706293  ] 904.9985218818085 1.0751532093323299e-06\n",
      "9400 [ 7.27461945 10.70729256] 904.7766596047047 1.0637166258908626e-06\n",
      "9500 [ 7.27933519 10.70827587] 904.5573885066399 1.052520787285549e-06\n",
      "9600 [ 7.28400003 10.70924335] 904.3406505216483 1.0415581710238517e-06\n",
      "9700 [ 7.28861506 10.71019539] 904.1263894879448 1.0308215647871355e-06\n",
      "9800 [ 7.29318131 10.7111324 ] 903.9145510662269 1.0203040506070809e-06\n",
      "9900 [ 7.29769979 10.71205474] 903.7050826622938 1.00999899000101e-06\n"
     ]
    }
   ],
   "source": [
    "for i in range(10000):\n",
    "    if i % 100 == 0:\n",
    "        print(i, w_list[i], errors[i], alpha_list[i])"
   ]
  },
  {
   "cell_type": "markdown",
   "metadata": {},
   "source": [
    "Значение ошибки MSE велико. Показатели MSE с фиксированным $\\alpha$ лучше (при 900 итерациях MSE близка к MSE нормального уравнения линйеной регрессии)."
   ]
  },
  {
   "cell_type": "markdown",
   "metadata": {},
   "source": [
    "**Ответ:** 900 итераций, $\\alpha = 0.01$."
   ]
  },
  {
   "cell_type": "markdown",
   "metadata": {},
   "source": [
    "**Задача 2*.** В этом коде мы избавляемся от итераций по весам, но тут есть ошибка, исправьте ее."
   ]
  },
  {
   "cell_type": "markdown",
   "metadata": {},
   "source": [
    "Данные коды не запустятся, поскольку отличны от кода в задаче 1."
   ]
  },
  {
   "cell_type": "code",
   "execution_count": null,
   "metadata": {},
   "outputs": [],
   "source": [
    "for i in range(1000):\n",
    "    y_pred = np.dot(W, X)\n",
    "    err = calc_mse(y, y_pred)\n",
    "    '''for ii in range(W.shape[0]):\n",
    "    W[ii] -= alpha * (1/n * 2 * np.sum(X[ii] * (y_pred - y)))'''\n",
    "    W -= (alpha * (1/n * 2 * np.sum(X * (y_pred - y))))\n",
    "    if i % 100 == 0:\n",
    "        print(i, W, err)"
   ]
  },
  {
   "cell_type": "code",
   "execution_count": null,
   "metadata": {},
   "outputs": [],
   "source": [
    "Исправленный вариант:\n",
    "for i in range(1000):\n",
    "    y_pred = np.dot(W, X)\n",
    "    err = calc_mse(y, y_pred)\n",
    "    '''for ii in range(W.shape[0]):\n",
    "    W[ii] -= alpha * (1/n * 2 * np.sum(X[ii] * (y_pred - y)))'''\n",
    "    W -= alpha * (1/n )* 2 * np.dot((y_pred - y), X.T)\n",
    "    if i % 100 == 0:\n",
    "        print(i, W, err) \n",
    "\n",
    "Результат работы:\n",
    "    0 [1.01102 0.534  ] 3173.15\n",
    "    100 [2.02168794 3.452835  ] 2207.6942101483005\n",
    "    200 [2.88306663 5.58962851] 1670.7027004086372\n",
    "    300 [3.63289519 7.14848061] 1368.0832412796258\n",
    "    400 [4.29908617 8.28027926] 1193.7493344933293\n",
    "    500 [4.90228732 9.09657298] 1089.714750358689\n",
    "    600 [5.45777535 9.67982684] 1024.2828984889416\n",
    "    700 [ 5.97685612 10.0910047 ] 980.1260644155933\n",
    "    800 [ 6.46789973 10.37517467] 947.770026039189\n",
    "    900 [ 6.93710574 10.56565326] 922.0330206910179"
   ]
  }
 ],
 "metadata": {
  "kernelspec": {
   "display_name": "Python 3",
   "language": "python",
   "name": "python3"
  },
  "language_info": {
   "codemirror_mode": {
    "name": "ipython",
    "version": 3
   },
   "file_extension": ".py",
   "mimetype": "text/x-python",
   "name": "python",
   "nbconvert_exporter": "python",
   "pygments_lexer": "ipython3",
   "version": "3.8.5"
  }
 },
 "nbformat": 4,
 "nbformat_minor": 4
}
